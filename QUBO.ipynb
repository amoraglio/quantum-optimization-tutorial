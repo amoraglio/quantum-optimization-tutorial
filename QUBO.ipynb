{
  "nbformat": 4,
  "nbformat_minor": 0,
  "metadata": {
    "colab": {
      "provenance": []
    },
    "kernelspec": {
      "name": "python3",
      "display_name": "Python 3"
    },
    "language_info": {
      "name": "python"
    }
  },
  "cells": [
    {
      "cell_type": "markdown",
      "source": [
        "Instalamos en primer lugar el SDK de Ocean (software de D-Wave)"
      ],
      "metadata": {
        "id": "1VRDSen5QsYu"
      }
    },
    {
      "cell_type": "code",
      "execution_count": null,
      "metadata": {
        "colab": {
          "base_uri": "https://localhost:8080/"
        },
        "id": "RzvFda0QQgx-",
        "outputId": "4037ab03-e41e-4c55-e1f4-be72af9d5d9b"
      },
      "outputs": [
        {
          "output_type": "stream",
          "name": "stdout",
          "text": [
            "Looking in indexes: https://pypi.org/simple, https://us-python.pkg.dev/colab-wheels/public/simple/\n",
            "Requirement already satisfied: dwave-ocean-sdk in /usr/local/lib/python3.8/dist-packages (6.3.0)\n",
            "Requirement already satisfied: networkx in /usr/local/lib/python3.8/dist-packages (2.8.8)\n",
            "Requirement already satisfied: dwave-cloud-client==0.10.4 in /usr/local/lib/python3.8/dist-packages (from dwave-ocean-sdk) (0.10.4)\n",
            "Requirement already satisfied: dwave-greedy==0.3.0 in /usr/local/lib/python3.8/dist-packages (from dwave-ocean-sdk) (0.3.0)\n",
            "Requirement already satisfied: dwave-preprocessing==0.5.4 in /usr/local/lib/python3.8/dist-packages (from dwave-ocean-sdk) (0.5.4)\n",
            "Requirement already satisfied: penaltymodel==1.0.2 in /usr/local/lib/python3.8/dist-packages (from dwave-ocean-sdk) (1.0.2)\n",
            "Requirement already satisfied: dwave-hybrid==0.6.10 in /usr/local/lib/python3.8/dist-packages (from dwave-ocean-sdk) (0.6.10)\n",
            "Requirement already satisfied: dwave-tabu==0.5.0 in /usr/local/lib/python3.8/dist-packages (from dwave-ocean-sdk) (0.5.0)\n",
            "Requirement already satisfied: dwave-neal==0.6.0 in /usr/local/lib/python3.8/dist-packages (from dwave-ocean-sdk) (0.6.0)\n",
            "Requirement already satisfied: dwavebinarycsp==0.2.0 in /usr/local/lib/python3.8/dist-packages (from dwave-ocean-sdk) (0.2.0)\n",
            "Requirement already satisfied: dwave-samplers==1.0.0 in /usr/local/lib/python3.8/dist-packages (from dwave-ocean-sdk) (1.0.0)\n",
            "Requirement already satisfied: minorminer==0.2.11 in /usr/local/lib/python3.8/dist-packages (from dwave-ocean-sdk) (0.2.11)\n",
            "Requirement already satisfied: dimod==0.12.3 in /usr/local/lib/python3.8/dist-packages (from dwave-ocean-sdk) (0.12.3)\n",
            "Requirement already satisfied: dwave-inspector==0.4.1 in /usr/local/lib/python3.8/dist-packages (from dwave-ocean-sdk) (0.4.1)\n",
            "Requirement already satisfied: dwave-networkx==0.8.13 in /usr/local/lib/python3.8/dist-packages (from dwave-ocean-sdk) (0.8.13)\n",
            "Requirement already satisfied: dwave-system==1.18.0 in /usr/local/lib/python3.8/dist-packages (from dwave-ocean-sdk) (1.18.0)\n",
            "Requirement already satisfied: pyqubo==1.4.0 in /usr/local/lib/python3.8/dist-packages (from dwave-ocean-sdk) (1.4.0)\n",
            "Requirement already satisfied: numpy<2.0.0,>=1.17.3 in /usr/local/lib/python3.8/dist-packages (from dimod==0.12.3->dwave-ocean-sdk) (1.21.6)\n",
            "Requirement already satisfied: pydantic>=1.7.3 in /usr/local/lib/python3.8/dist-packages (from dwave-cloud-client==0.10.4->dwave-ocean-sdk) (1.10.4)\n",
            "Requirement already satisfied: click>=7.0 in /usr/local/lib/python3.8/dist-packages (from dwave-cloud-client==0.10.4->dwave-ocean-sdk) (8.1.3)\n",
            "Requirement already satisfied: requests[socks]>=2.18 in /usr/local/lib/python3.8/dist-packages (from dwave-cloud-client==0.10.4->dwave-ocean-sdk) (2.25.1)\n",
            "Requirement already satisfied: python-dateutil>=2.7 in /usr/local/lib/python3.8/dist-packages (from dwave-cloud-client==0.10.4->dwave-ocean-sdk) (2.8.2)\n",
            "Requirement already satisfied: diskcache>=5.2.1 in /usr/local/lib/python3.8/dist-packages (from dwave-cloud-client==0.10.4->dwave-ocean-sdk) (5.4.0)\n",
            "Requirement already satisfied: plucky>=0.4.3 in /usr/local/lib/python3.8/dist-packages (from dwave-cloud-client==0.10.4->dwave-ocean-sdk) (0.4.3)\n",
            "Requirement already satisfied: homebase>=1.0 in /usr/local/lib/python3.8/dist-packages (from dwave-cloud-client==0.10.4->dwave-ocean-sdk) (1.0.1)\n",
            "Requirement already satisfied: importlib-resources>=3.2.0 in /usr/local/lib/python3.8/dist-packages (from dwave-inspector==0.4.1->dwave-ocean-sdk) (5.10.2)\n",
            "Requirement already satisfied: importlib-metadata>=4.8 in /usr/local/lib/python3.8/dist-packages (from dwave-inspector==0.4.1->dwave-ocean-sdk) (6.0.0)\n",
            "Requirement already satisfied: Flask>=2.2 in /usr/local/lib/python3.8/dist-packages (from dwave-inspector==0.4.1->dwave-ocean-sdk) (2.2.2)\n",
            "Requirement already satisfied: scipy>=1.7.3 in /usr/local/lib/python3.8/dist-packages (from dwave-system==1.18.0->dwave-ocean-sdk) (1.7.3)\n",
            "Requirement already satisfied: fasteners in /usr/local/lib/python3.8/dist-packages (from minorminer==0.2.11->dwave-ocean-sdk) (0.18)\n",
            "Requirement already satisfied: rectangle-packer>=2.0.1 in /usr/local/lib/python3.8/dist-packages (from minorminer==0.2.11->dwave-ocean-sdk) (2.0.1)\n",
            "Requirement already satisfied: Deprecated>=1.2.12 in /usr/local/lib/python3.8/dist-packages (from pyqubo==1.4.0->dwave-ocean-sdk) (1.2.13)\n",
            "Requirement already satisfied: six>=1.15.0 in /usr/local/lib/python3.8/dist-packages (from pyqubo==1.4.0->dwave-ocean-sdk) (1.15.0)\n",
            "Requirement already satisfied: wrapt<2,>=1.10 in /usr/local/lib/python3.8/dist-packages (from Deprecated>=1.2.12->pyqubo==1.4.0->dwave-ocean-sdk) (1.14.1)\n",
            "Requirement already satisfied: Jinja2>=3.0 in /usr/local/lib/python3.8/dist-packages (from Flask>=2.2->dwave-inspector==0.4.1->dwave-ocean-sdk) (3.1.2)\n",
            "Requirement already satisfied: itsdangerous>=2.0 in /usr/local/lib/python3.8/dist-packages (from Flask>=2.2->dwave-inspector==0.4.1->dwave-ocean-sdk) (2.1.2)\n",
            "Requirement already satisfied: Werkzeug>=2.2.2 in /usr/local/lib/python3.8/dist-packages (from Flask>=2.2->dwave-inspector==0.4.1->dwave-ocean-sdk) (2.2.2)\n",
            "Requirement already satisfied: zipp>=0.5 in /usr/local/lib/python3.8/dist-packages (from importlib-metadata>=4.8->dwave-inspector==0.4.1->dwave-ocean-sdk) (3.11.0)\n",
            "Requirement already satisfied: typing-extensions>=4.2.0 in /usr/local/lib/python3.8/dist-packages (from pydantic>=1.7.3->dwave-cloud-client==0.10.4->dwave-ocean-sdk) (4.4.0)\n",
            "Requirement already satisfied: certifi>=2017.4.17 in /usr/local/lib/python3.8/dist-packages (from requests[socks]>=2.18->dwave-cloud-client==0.10.4->dwave-ocean-sdk) (2022.12.7)\n",
            "Requirement already satisfied: urllib3<1.27,>=1.21.1 in /usr/local/lib/python3.8/dist-packages (from requests[socks]>=2.18->dwave-cloud-client==0.10.4->dwave-ocean-sdk) (1.24.3)\n",
            "Requirement already satisfied: chardet<5,>=3.0.2 in /usr/local/lib/python3.8/dist-packages (from requests[socks]>=2.18->dwave-cloud-client==0.10.4->dwave-ocean-sdk) (4.0.0)\n",
            "Requirement already satisfied: idna<3,>=2.5 in /usr/local/lib/python3.8/dist-packages (from requests[socks]>=2.18->dwave-cloud-client==0.10.4->dwave-ocean-sdk) (2.10)\n",
            "Requirement already satisfied: PySocks!=1.5.7,>=1.5.6 in /usr/local/lib/python3.8/dist-packages (from requests[socks]>=2.18->dwave-cloud-client==0.10.4->dwave-ocean-sdk) (1.7.1)\n",
            "Requirement already satisfied: MarkupSafe>=2.0 in /usr/local/lib/python3.8/dist-packages (from Jinja2>=3.0->Flask>=2.2->dwave-inspector==0.4.1->dwave-ocean-sdk) (2.1.2)\n"
          ]
        }
      ],
      "source": [
        "!pip install dwave-ocean-sdk networkx"
      ]
    },
    {
      "cell_type": "markdown",
      "source": [
        "Ahora tenemos que configurar el entorno (se puede pulsar 'enter' para usar las opciones por defecto)"
      ],
      "metadata": {
        "id": "J5ggr3iVSpLm"
      }
    },
    {
      "cell_type": "code",
      "source": [
        "!dwave setup"
      ],
      "metadata": {
        "colab": {
          "base_uri": "https://localhost:8080/"
        },
        "id": "z5KefhJXSbAX",
        "outputId": "f7617564-4b67-4978-e223-19e35230552c"
      },
      "execution_count": null,
      "outputs": [
        {
          "output_type": "stream",
          "name": "stdout",
          "text": [
            "Optionally install non-open-source packages and configure your environment.\n",
            "\n",
            "Do you want to select non-open-source packages to install (y/n)? [y]: \n",
            "\n",
            "D-Wave Drivers installed and up to date.\n",
            "\n",
            "D-Wave Problem Inspector installed and up to date.\n",
            "\n",
            "Creating the D-Wave configuration file.\n",
            "Using the simplified configuration flow.\n",
            "Try 'dwave config create --full' for more options.\n",
            "\n",
            "Updating existing configuration file: /root/.config/dwave/dwave.conf\n",
            "Available profiles: defaults\n",
            "Profile (select existing or create new) [defaults]: \n",
            "Updating existing profile: defaults\n",
            "Authentication token [DEV-3d8ab74ab2d68406133ecb510f05ac9a34ad5b4d]: \n",
            "Configuration saved.\n"
          ]
        }
      ]
    },
    {
      "cell_type": "markdown",
      "source": [
        "Importamos las bibliotecas necesarias"
      ],
      "metadata": {
        "id": "vj3Vh2oOchBr"
      }
    },
    {
      "cell_type": "code",
      "source": [
        "from dimod import Binary, ExactSolver\n",
        "from networkx import Graph, draw\n",
        "from dwave.samplers import SimulatedAnnealingSampler, SteepestDescentSampler\n",
        "from dwave.system import DWaveSampler, EmbeddingComposite"
      ],
      "metadata": {
        "id": "SItemVFHV0BZ"
      },
      "execution_count": null,
      "outputs": []
    },
    {
      "cell_type": "markdown",
      "source": [
        "Construimos una función para construir el modelo QUBO a partir del grafo"
      ],
      "metadata": {
        "id": "qOoy-JMDcl0n"
      }
    },
    {
      "cell_type": "code",
      "source": [
        "def obtener_QUBO(G):\n",
        "  nvars = len(G.nodes())\n",
        "  var = [Binary(f'v{i}') for i in range (0,nvars)]\n",
        "  qubo = -sum([(var[i]-var[j])**2 for i,j in G.edges()])\n",
        "  return qubo"
      ],
      "metadata": {
        "id": "Xp8VarZoXQMR"
      },
      "execution_count": null,
      "outputs": []
    },
    {
      "cell_type": "markdown",
      "source": [
        "Definimos una función para obtener el muestreador (sampler) que tratará de resolver el problema"
      ],
      "metadata": {
        "id": "FdOd_n7zcpbd"
      }
    },
    {
      "cell_type": "code",
      "source": [
        "def obtener_sampler():\n",
        "  #return ExactSolver()\n",
        "  #return SimulatedAnnealingSampler()\n",
        "  #return SteepestDescentSampler()\n",
        "  return EmbeddingComposite(DWaveSampler())"
      ],
      "metadata": {
        "id": "D23NABuRcwZA"
      },
      "execution_count": null,
      "outputs": []
    },
    {
      "cell_type": "markdown",
      "source": [
        "Usaremos el grafo del ejemplo"
      ],
      "metadata": {
        "id": "F0_RFQp_c14O"
      }
    },
    {
      "cell_type": "code",
      "source": [
        "G = Graph()\n",
        "G.add_nodes_from([0,1,2,3,4])\n",
        "G.add_edges_from([(0,1),(0,3),(1,2),(1,3),(2,4),(3,4)])\n",
        "draw(G, with_labels=True)"
      ],
      "metadata": {
        "colab": {
          "base_uri": "https://localhost:8080/",
          "height": 320
        },
        "id": "WtLtPtfCYA26",
        "outputId": "ec2b82cb-af33-47a1-ea02-4e71029c9f0d"
      },
      "execution_count": null,
      "outputs": [
        {
          "output_type": "display_data",
          "data": {
            "text/plain": [
              "<Figure size 432x288 with 1 Axes>"
            ],
            "image/png": "[encoded data removed]"
          },
          "metadata": {}
        }
      ]
    },
    {
      "cell_type": "markdown",
      "source": [
        "Veamos qué aspecto tiene el QUBO para este grafo:"
      ],
      "metadata": {
        "id": "xpjf2dYNdJ1e"
      }
    },
    {
      "cell_type": "code",
      "source": [
        "qubo = obtener_QUBO(G)\n",
        "qubo"
      ],
      "metadata": {
        "colab": {
          "base_uri": "https://localhost:8080/"
        },
        "id": "m79-VhxmYbjH",
        "outputId": "0fe7c3ce-f7f5-4bc7-ad65-bbc1cc03e153"
      },
      "execution_count": null,
      "outputs": [
        {
          "output_type": "execute_result",
          "data": {
            "text/plain": [
              "BinaryQuadraticModel({'v0': -2.0, 'v1': -3.0, 'v3': -3.0, 'v2': -2.0, 'v4': -2.0}, {('v1', 'v0'): 2.0, ('v3', 'v0'): 2.0, ('v3', 'v1'): 2.0, ('v2', 'v1'): 2.0, ('v4', 'v3'): 2.0, ('v4', 'v2'): 2.0}, -0.0, 'BINARY')"
            ]
          },
          "metadata": {},
          "execution_count": 76
        }
      ]
    },
    {
      "cell_type": "markdown",
      "source": [
        "Ahora calculamos la solución"
      ],
      "metadata": {
        "id": "Gxk0CdlodRgV"
      }
    },
    {
      "cell_type": "code",
      "source": [
        "sampler = obtener_sampler()\n",
        "resultado = sampler.sample(qubo, num_reads=10)\n",
        "print(resultado)"
      ],
      "metadata": {
        "colab": {
          "base_uri": "https://localhost:8080/"
        },
        "id": "7rhZTe_JZgH3",
        "outputId": "fb4539ab-ba47-48d5-b026-a80bfb0d18ca"
      },
      "execution_count": null,
      "outputs": [
        {
          "output_type": "stream",
          "name": "stdout",
          "text": [
            "  v0 v1 v2 v3 v4 energy num_oc. chain_.\n",
            "0  0  0  1  1  0   -5.0       5     0.0\n",
            "1  1  0  1  1  0   -5.0       2     0.0\n",
            "2  1  1  0  0  1   -5.0       3     0.0\n",
            "['BINARY', 3 rows, 10 samples, 5 variables]\n"
          ]
        }
      ]
    },
    {
      "cell_type": "code",
      "source": [
        "!dwave config create"
      ],
      "metadata": {
        "colab": {
          "base_uri": "https://localhost:8080/"
        },
        "id": "KQqUP8_lfTqM",
        "outputId": "53d44376-8993-4567-91b0-396aedd8c984"
      },
      "execution_count": null,
      "outputs": [
        {
          "output_type": "stream",
          "name": "stdout",
          "text": [
            "Using the simplified configuration flow.\n",
            "Try 'dwave config create --full' for more options.\n",
            "\n",
            "Updating existing configuration file: /root/.config/dwave/dwave.conf\n",
            "Available profiles: defaults\n",
            "Profile (select existing or create new) [defaults]: \n",
            "Updating existing profile: defaults\n",
            "Authentication token [DEV-3d8ab74ab2d68406133ecb510f05ac9a34ad5b4d]: DEV-3d8ab74ab2d68406133ecb510f05ac9a34ad5b4d\n",
            "Configuration saved.\n"
          ]
        }
      ]
    }
  ]
}