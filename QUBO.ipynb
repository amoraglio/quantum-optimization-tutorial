{
  "nbformat": 4,
  "nbformat_minor": 0,
  "metadata": {
    "colab": {
      "provenance": []
    },
    "kernelspec": {
      "name": "python3",
      "display_name": "Python 3"
    },
    "language_info": {
      "name": "python"
    }
  },
  "cells": [
    {
      "cell_type": "markdown",
      "source": [
        "First, we install the Ocean SDK (D-Wave software)."
      ],
      "metadata": {
        "id": "1VRDSen5QsYu"
      }
    },
    {
      "cell_type": "code",
      "execution_count": 1,
      "metadata": {
        "colab": {
          "base_uri": "https://localhost:8080/"
        },
        "id": "RzvFda0QQgx-",
        "outputId": "963d9cb9-3a15-4b78-a229-9fdb85fe1b5c"
      },
      "outputs": [
        {
          "output_type": "stream",
          "name": "stdout",
          "text": [
            "Looking in indexes: https://pypi.org/simple, https://us-python.pkg.dev/colab-wheels/public/simple/\n",
            "Collecting dwave-ocean-sdk\n",
            "  Downloading dwave_ocean_sdk-6.4.0-py3-none-any.whl (8.5 kB)\n",
            "Requirement already satisfied: networkx in /usr/local/lib/python3.10/dist-packages (3.1)\n",
            "Collecting dimod==0.12.6 (from dwave-ocean-sdk)\n",
            "  Downloading dimod-0.12.6-cp310-cp310-manylinux_2_17_x86_64.manylinux2014_x86_64.whl (15.6 MB)\n",
            "\u001b[2K     \u001b[90m━━━━━━━━━━━━━━━━━━━━━━━━━━━━━━━━━━━━━━━━\u001b[0m \u001b[32m15.6/15.6 MB\u001b[0m \u001b[31m26.8 MB/s\u001b[0m eta \u001b[36m0:00:00\u001b[0m\n",
            "\u001b[?25hCollecting dwave-cloud-client==0.10.5 (from dwave-ocean-sdk)\n",
            "  Downloading dwave_cloud_client-0.10.5-py3-none-any.whl (112 kB)\n",
            "\u001b[2K     \u001b[90m━━━━━━━━━━━━━━━━━━━━━━━━━━━━━━━━━━━━━━\u001b[0m \u001b[32m112.6/112.6 kB\u001b[0m \u001b[31m12.8 MB/s\u001b[0m eta \u001b[36m0:00:00\u001b[0m\n",
            "\u001b[?25hCollecting dwave-greedy==0.3.0 (from dwave-ocean-sdk)\n",
            "  Downloading dwave_greedy-0.3.0-py3-none-any.whl (10 kB)\n",
            "Collecting dwave-hybrid==0.6.10 (from dwave-ocean-sdk)\n",
            "  Downloading dwave_hybrid-0.6.10-py3-none-any.whl (74 kB)\n",
            "\u001b[2K     \u001b[90m━━━━━━━━━━━━━━━━━━━━━━━━━━━━━━━━━━━━━━━━\u001b[0m \u001b[32m74.8/74.8 kB\u001b[0m \u001b[31m8.9 MB/s\u001b[0m eta \u001b[36m0:00:00\u001b[0m\n",
            "\u001b[?25hCollecting dwave-inspector==0.4.2 (from dwave-ocean-sdk)\n",
            "  Downloading dwave_inspector-0.4.2-py3-none-any.whl (31 kB)\n",
            "Collecting dwave-neal==0.6.0 (from dwave-ocean-sdk)\n",
            "  Downloading dwave_neal-0.6.0-py3-none-any.whl (8.7 kB)\n",
            "Collecting dwave-networkx==0.8.14 (from dwave-ocean-sdk)\n",
            "  Downloading dwave_networkx-0.8.14-py3-none-any.whl (102 kB)\n",
            "\u001b[2K     \u001b[90m━━━━━━━━━━━━━━━━━━━━━━━━━━━━━━━━━━━━━━\u001b[0m \u001b[32m102.4/102.4 kB\u001b[0m \u001b[31m12.6 MB/s\u001b[0m eta \u001b[36m0:00:00\u001b[0m\n",
            "\u001b[?25hCollecting dwave-preprocessing==0.5.4 (from dwave-ocean-sdk)\n",
            "  Downloading dwave_preprocessing-0.5.4-cp310-cp310-manylinux_2_17_x86_64.manylinux2014_x86_64.whl (3.6 MB)\n",
            "\u001b[2K     \u001b[90m━━━━━━━━━━━━━━━━━━━━━━━━━━━━━━━━━━━━━━━━\u001b[0m \u001b[32m3.6/3.6 MB\u001b[0m \u001b[31m30.4 MB/s\u001b[0m eta \u001b[36m0:00:00\u001b[0m\n",
            "\u001b[?25hCollecting dwave-samplers==1.0.0 (from dwave-ocean-sdk)\n",
            "  Downloading dwave_samplers-1.0.0-cp310-cp310-manylinux_2_17_x86_64.manylinux2014_x86_64.whl (6.0 MB)\n",
            "\u001b[2K     \u001b[90m━━━━━━━━━━━━━━━━━━━━━━━━━━━━━━━━━━━━━━━━\u001b[0m \u001b[32m6.0/6.0 MB\u001b[0m \u001b[31m34.2 MB/s\u001b[0m eta \u001b[36m0:00:00\u001b[0m\n",
            "\u001b[?25hCollecting dwave-system==1.19.0 (from dwave-ocean-sdk)\n",
            "  Downloading dwave_system-1.19.0-py3-none-any.whl (103 kB)\n",
            "\u001b[2K     \u001b[90m━━━━━━━━━━━━━━━━━━━━━━━━━━━━━━━━━━━━━━\u001b[0m \u001b[32m103.2/103.2 kB\u001b[0m \u001b[31m11.9 MB/s\u001b[0m eta \u001b[36m0:00:00\u001b[0m\n",
            "\u001b[?25hCollecting dwave-tabu==0.5.0 (from dwave-ocean-sdk)\n",
            "  Downloading dwave_tabu-0.5.0-py3-none-any.whl (9.2 kB)\n",
            "Collecting dwavebinarycsp==0.2.0 (from dwave-ocean-sdk)\n",
            "  Downloading dwavebinarycsp-0.2.0-py3-none-any.whl (35 kB)\n",
            "Collecting minorminer==0.2.11 (from dwave-ocean-sdk)\n",
            "  Downloading minorminer-0.2.11-cp310-cp310-manylinux_2_17_x86_64.manylinux2014_x86_64.whl (10.1 MB)\n",
            "\u001b[2K     \u001b[90m━━━━━━━━━━━━━━━━━━━━━━━━━━━━━━━━━━━━━━━━\u001b[0m \u001b[32m10.1/10.1 MB\u001b[0m \u001b[31m35.7 MB/s\u001b[0m eta \u001b[36m0:00:00\u001b[0m\n",
            "\u001b[?25hCollecting penaltymodel==1.0.2 (from dwave-ocean-sdk)\n",
            "  Downloading penaltymodel-1.0.2-py3-none-any.whl (36 kB)\n",
            "Collecting pyqubo==1.4.0 (from dwave-ocean-sdk)\n",
            "  Downloading pyqubo-1.4.0-cp310-cp310-manylinux_2_17_x86_64.manylinux2014_x86_64.whl (245 kB)\n",
            "\u001b[2K     \u001b[90m━━━━━━━━━━━━━━━━━━━━━━━━━━━━━━━━━━━━━━\u001b[0m \u001b[32m245.3/245.3 kB\u001b[0m \u001b[31m17.5 MB/s\u001b[0m eta \u001b[36m0:00:00\u001b[0m\n",
            "\u001b[?25hRequirement already satisfied: numpy<2.0.0,>=1.17.3 in /usr/local/lib/python3.10/dist-packages (from dimod==0.12.6->dwave-ocean-sdk) (1.22.4)\n",
            "Requirement already satisfied: requests[socks]>=2.18 in /usr/local/lib/python3.10/dist-packages (from dwave-cloud-client==0.10.5->dwave-ocean-sdk) (2.27.1)\n",
            "Requirement already satisfied: pydantic>=1.7.3 in /usr/local/lib/python3.10/dist-packages (from dwave-cloud-client==0.10.5->dwave-ocean-sdk) (1.10.7)\n",
            "Collecting homebase>=1.0 (from dwave-cloud-client==0.10.5->dwave-ocean-sdk)\n",
            "  Downloading homebase-1.0.1-py2.py3-none-any.whl (11 kB)\n",
            "Requirement already satisfied: click>=7.0 in /usr/local/lib/python3.10/dist-packages (from dwave-cloud-client==0.10.5->dwave-ocean-sdk) (8.1.3)\n",
            "Requirement already satisfied: python-dateutil>=2.7 in /usr/local/lib/python3.10/dist-packages (from dwave-cloud-client==0.10.5->dwave-ocean-sdk) (2.8.2)\n",
            "Collecting plucky>=0.4.3 (from dwave-cloud-client==0.10.5->dwave-ocean-sdk)\n",
            "  Downloading plucky-0.4.3-py2.py3-none-any.whl (10 kB)\n",
            "Collecting diskcache>=5.2.1 (from dwave-cloud-client==0.10.5->dwave-ocean-sdk)\n",
            "  Downloading diskcache-5.6.1-py3-none-any.whl (45 kB)\n",
            "\u001b[2K     \u001b[90m━━━━━━━━━━━━━━━━━━━━━━━━━━━━━━━━━━━━━━━━\u001b[0m \u001b[32m45.6/45.6 kB\u001b[0m \u001b[31m5.5 MB/s\u001b[0m eta \u001b[36m0:00:00\u001b[0m\n",
            "\u001b[?25hRequirement already satisfied: packaging>=19 in /usr/local/lib/python3.10/dist-packages (from dwave-cloud-client==0.10.5->dwave-ocean-sdk) (23.1)\n",
            "Requirement already satisfied: werkzeug>=2.2 in /usr/local/lib/python3.10/dist-packages (from dwave-cloud-client==0.10.5->dwave-ocean-sdk) (2.3.0)\n",
            "Requirement already satisfied: Flask>=2.2 in /usr/local/lib/python3.10/dist-packages (from dwave-inspector==0.4.2->dwave-ocean-sdk) (2.2.4)\n",
            "Collecting networkx\n",
            "  Downloading networkx-2.8.8-py3-none-any.whl (2.0 MB)\n",
            "\u001b[2K     \u001b[90m━━━━━━━━━━━━━━━━━━━━━━━━━━━━━━━━━━━━━━━━\u001b[0m \u001b[32m2.0/2.0 MB\u001b[0m \u001b[31m54.7 MB/s\u001b[0m eta \u001b[36m0:00:00\u001b[0m\n",
            "\u001b[?25hRequirement already satisfied: scipy>=1.7.3 in /usr/local/lib/python3.10/dist-packages (from dwave-system==1.19.0->dwave-ocean-sdk) (1.10.1)\n",
            "Collecting fasteners (from minorminer==0.2.11->dwave-ocean-sdk)\n",
            "  Downloading fasteners-0.18-py3-none-any.whl (18 kB)\n",
            "Collecting rectangle-packer>=2.0.1 (from minorminer==0.2.11->dwave-ocean-sdk)\n",
            "  Downloading rectangle_packer-2.0.1-cp310-cp310-manylinux_2_5_x86_64.manylinux1_x86_64.manylinux_2_17_x86_64.manylinux2014_x86_64.whl (300 kB)\n",
            "\u001b[2K     \u001b[90m━━━━━━━━━━━━━━━━━━━━━━━━━━━━━━━━━━━━━━\u001b[0m \u001b[32m300.8/300.8 kB\u001b[0m \u001b[31m26.3 MB/s\u001b[0m eta \u001b[36m0:00:00\u001b[0m\n",
            "\u001b[?25hCollecting Deprecated>=1.2.12 (from pyqubo==1.4.0->dwave-ocean-sdk)\n",
            "  Downloading Deprecated-1.2.14-py2.py3-none-any.whl (9.6 kB)\n",
            "Requirement already satisfied: six>=1.15.0 in /usr/local/lib/python3.10/dist-packages (from pyqubo==1.4.0->dwave-ocean-sdk) (1.16.0)\n",
            "Requirement already satisfied: wrapt<2,>=1.10 in /usr/local/lib/python3.10/dist-packages (from Deprecated>=1.2.12->pyqubo==1.4.0->dwave-ocean-sdk) (1.14.1)\n",
            "Requirement already satisfied: Jinja2>=3.0 in /usr/local/lib/python3.10/dist-packages (from Flask>=2.2->dwave-inspector==0.4.2->dwave-ocean-sdk) (3.1.2)\n",
            "Requirement already satisfied: itsdangerous>=2.0 in /usr/local/lib/python3.10/dist-packages (from Flask>=2.2->dwave-inspector==0.4.2->dwave-ocean-sdk) (2.1.2)\n",
            "Requirement already satisfied: typing-extensions>=4.2.0 in /usr/local/lib/python3.10/dist-packages (from pydantic>=1.7.3->dwave-cloud-client==0.10.5->dwave-ocean-sdk) (4.5.0)\n",
            "Requirement already satisfied: urllib3<1.27,>=1.21.1 in /usr/local/lib/python3.10/dist-packages (from requests[socks]>=2.18->dwave-cloud-client==0.10.5->dwave-ocean-sdk) (1.26.15)\n",
            "Requirement already satisfied: certifi>=2017.4.17 in /usr/local/lib/python3.10/dist-packages (from requests[socks]>=2.18->dwave-cloud-client==0.10.5->dwave-ocean-sdk) (2022.12.7)\n",
            "Requirement already satisfied: charset-normalizer~=2.0.0 in /usr/local/lib/python3.10/dist-packages (from requests[socks]>=2.18->dwave-cloud-client==0.10.5->dwave-ocean-sdk) (2.0.12)\n",
            "Requirement already satisfied: idna<4,>=2.5 in /usr/local/lib/python3.10/dist-packages (from requests[socks]>=2.18->dwave-cloud-client==0.10.5->dwave-ocean-sdk) (3.4)\n",
            "Requirement already satisfied: PySocks!=1.5.7,>=1.5.6 in /usr/local/lib/python3.10/dist-packages (from requests[socks]>=2.18->dwave-cloud-client==0.10.5->dwave-ocean-sdk) (1.7.1)\n",
            "Requirement already satisfied: MarkupSafe>=2.1.1 in /usr/local/lib/python3.10/dist-packages (from werkzeug>=2.2->dwave-cloud-client==0.10.5->dwave-ocean-sdk) (2.1.2)\n",
            "Installing collected packages: rectangle-packer, plucky, homebase, networkx, fasteners, diskcache, dimod, Deprecated, penaltymodel, dwave-samplers, dwave-preprocessing, dwave-networkx, minorminer, dwavebinarycsp, dwave-tabu, dwave-neal, dwave-greedy, dwave-cloud-client, pyqubo, dwave-system, dwave-inspector, dwave-hybrid, dwave-ocean-sdk\n",
            "  Attempting uninstall: networkx\n",
            "    Found existing installation: networkx 3.1\n",
            "    Uninstalling networkx-3.1:\n",
            "      Successfully uninstalled networkx-3.1\n",
            "Successfully installed Deprecated-1.2.14 dimod-0.12.6 diskcache-5.6.1 dwave-cloud-client-0.10.5 dwave-greedy-0.3.0 dwave-hybrid-0.6.10 dwave-inspector-0.4.2 dwave-neal-0.6.0 dwave-networkx-0.8.14 dwave-ocean-sdk-6.4.0 dwave-preprocessing-0.5.4 dwave-samplers-1.0.0 dwave-system-1.19.0 dwave-tabu-0.5.0 dwavebinarycsp-0.2.0 fasteners-0.18 homebase-1.0.1 minorminer-0.2.11 networkx-2.8.8 penaltymodel-1.0.2 plucky-0.4.3 pyqubo-1.4.0 rectangle-packer-2.0.1\n"
          ]
        }
      ],
      "source": [
        "!pip install dwave-ocean-sdk networkx"
      ]
    },
    {
      "cell_type": "markdown",
      "source": [
        "Now we need to set up the environment (you can press 'enter' to use the default options)."
      ],
      "metadata": {
        "id": "J5ggr3iVSpLm"
      }
    },
    {
      "cell_type": "code",
      "source": [
        "!dwave setup"
      ],
      "metadata": {
        "colab": {
          "base_uri": "https://localhost:8080/"
        },
        "id": "z5KefhJXSbAX",
        "outputId": "18c38c4b-49cd-44d0-c9dd-d1925b7ae9c5"
      },
      "execution_count": 2,
      "outputs": [
        {
          "output_type": "stream",
          "name": "stdout",
          "text": [
            "Optionally install non-open-source packages and configure your environment.\n",
            "\n",
            "Do you want to select non-open-source packages to install (y/n)? [y]: y\n",
            "\n",
            "D-Wave Problem Inspector\n",
            "This tool visualizes problems submitted to the quantum computer and the results returned.\n",
            "This package is available under the D-Wave EULA license.\n",
            "The terms of the license are available online: https://docs.ocean.dwavesys.com/eula\n",
            "Install (y/n)? [y]: \n",
            "Installing: D-Wave Problem Inspector\n",
            "Successfully installed D-Wave Problem Inspector.\n",
            "\n",
            "D-Wave Drivers\n",
            "These drivers enable some automated performance-tuning features.\n",
            "This package is available under the D-Wave EULA license.\n",
            "The terms of the license are available online: https://docs.ocean.dwavesys.com/eula\n",
            "Install (y/n)? [y]: \n",
            "Installing: D-Wave Drivers\n",
            "Successfully installed D-Wave Drivers.\n",
            "\n",
            "Creating the D-Wave configuration file.\n",
            "Using the simplified configuration flow.\n",
            "Try 'dwave config create --full' for more options.\n",
            "\n",
            "Creating new configuration file: /root/.config/dwave/dwave.conf\n",
            "Profile [defaults]: \n",
            "Updating existing profile: defaults\n",
            "Authentication token [skip]: \n",
            "Configuration saved.\n"
          ]
        }
      ]
    },
    {
      "cell_type": "markdown",
      "source": [
        "We import the necessary libraries."
      ],
      "metadata": {
        "id": "vj3Vh2oOchBr"
      }
    },
    {
      "cell_type": "code",
      "source": [
        "from dimod import Binary, ExactSolver\n",
        "from networkx import Graph, draw\n",
        "from dwave.samplers import SimulatedAnnealingSampler, SteepestDescentSampler\n",
        "from dwave.system import DWaveSampler, EmbeddingComposite"
      ],
      "metadata": {
        "id": "SItemVFHV0BZ"
      },
      "execution_count": 3,
      "outputs": []
    },
    {
      "cell_type": "markdown",
      "source": [
        "We build a function to construct the QUBO model from the graph.\n"
      ],
      "metadata": {
        "id": "qOoy-JMDcl0n"
      }
    },
    {
      "cell_type": "code",
      "source": [
        "def obtain_QUBO(G):\n",
        "  nvars = len(G.nodes())\n",
        "  var = [Binary(f'v{i}') for i in range (0,nvars)]\n",
        "  qubo = -sum([(var[i]-var[j])**2 for i,j in G.edges()])\n",
        "  return qubo"
      ],
      "metadata": {
        "id": "Xp8VarZoXQMR"
      },
      "execution_count": 16,
      "outputs": []
    },
    {
      "cell_type": "markdown",
      "source": [
        "We define a function to obtain the sampler that will attempt to solve the problem."
      ],
      "metadata": {
        "id": "FdOd_n7zcpbd"
      }
    },
    {
      "cell_type": "code",
      "source": [
        "def obtain_sampler():\n",
        "  return ExactSolver()\n",
        "  #return SimulatedAnnealingSampler()\n",
        "  #return SteepestDescentSampler()\n",
        "  #return EmbeddingComposite(DWaveSampler())"
      ],
      "metadata": {
        "id": "D23NABuRcwZA"
      },
      "execution_count": 17,
      "outputs": []
    },
    {
      "cell_type": "markdown",
      "source": [
        "We will use the example graph."
      ],
      "metadata": {
        "id": "F0_RFQp_c14O"
      }
    },
    {
      "cell_type": "code",
      "source": [
        "G = Graph()\n",
        "G.add_nodes_from([0,1,2,3,4])\n",
        "G.add_edges_from([(0,1),(0,3),(1,2),(1,3),(2,4),(3,4)])\n",
        "draw(G, with_labels=True)"
      ],
      "metadata": {
        "colab": {
          "base_uri": "https://localhost:8080/",
          "height": 516
        },
        "id": "WtLtPtfCYA26",
        "outputId": "eb557d43-90a0-4ad8-fed2-95d800996527"
      },
      "execution_count": 6,
      "outputs": [
        {
          "output_type": "display_data",
          "data": {
            "text/plain": [
              "<Figure size 640x480 with 1 Axes>"
            ],
            "image/png": "[encoded data removed]"
          },
          "metadata": {}
        }
      ]
    },
    {
      "cell_type": "markdown",
      "source": [
        "Let's see what the QUBO looks like for this graph:"
      ],
      "metadata": {
        "id": "xpjf2dYNdJ1e"
      }
    },
    {
      "cell_type": "code",
      "source": [
        "qubo = obtain_QUBO(G)\n",
        "qubo"
      ],
      "metadata": {
        "colab": {
          "base_uri": "https://localhost:8080/"
        },
        "id": "m79-VhxmYbjH",
        "outputId": "f5e1a5ca-18e1-4ef1-f7ea-d97f4032c525"
      },
      "execution_count": 18,
      "outputs": [
        {
          "output_type": "execute_result",
          "data": {
            "text/plain": [
              "BinaryQuadraticModel({'v0': -2.0, 'v1': -3.0, 'v3': -3.0, 'v2': -2.0, 'v4': -2.0}, {('v1', 'v0'): 2.0, ('v3', 'v0'): 2.0, ('v3', 'v1'): 2.0, ('v2', 'v1'): 2.0, ('v4', 'v3'): 2.0, ('v4', 'v2'): 2.0}, -0.0, 'BINARY')"
            ]
          },
          "metadata": {},
          "execution_count": 18
        }
      ]
    },
    {
      "cell_type": "markdown",
      "source": [
        "Now we calculate the solution."
      ],
      "metadata": {
        "id": "Gxk0CdlodRgV"
      }
    },
    {
      "cell_type": "code",
      "source": [
        "sampler = obtain_sampler()\n",
        "result = sampler.sample(qubo, num_reads=10)\n",
        "print(result)"
      ],
      "metadata": {
        "colab": {
          "base_uri": "https://localhost:8080/"
        },
        "id": "7rhZTe_JZgH3",
        "outputId": "1573f823-116d-46b2-fecf-b9a0e7a5b92d"
      },
      "execution_count": 19,
      "outputs": [
        {
          "output_type": "stream",
          "name": "stdout",
          "text": [
            "   v0 v1 v2 v3 v4 energy num_oc.\n",
            "8   0  0  1  1  0   -5.0       1\n",
            "9   1  0  1  1  0   -5.0       1\n",
            "28  0  1  0  0  1   -5.0       1\n",
            "29  1  1  0  0  1   -5.0       1\n",
            "4   0  1  0  1  0   -4.0       1\n",
            "11  0  1  1  1  0   -4.0       1\n",
            "14  1  0  1  0  0   -4.0       1\n",
            "17  1  0  1  0  1   -4.0       1\n",
            "27  0  1  0  1  1   -4.0       1\n",
            "30  1  0  0  0  1   -4.0       1\n",
            "2   1  1  0  0  0   -3.0       1\n",
            "3   0  1  0  0  0   -3.0       1\n",
            "6   1  0  0  1  0   -3.0       1\n",
            "7   0  0  0  1  0   -3.0       1\n",
            "12  0  1  1  0  0   -3.0       1\n",
            "13  1  1  1  0  0   -3.0       1\n",
            "18  1  1  1  0  1   -3.0       1\n",
            "19  0  1  1  0  1   -3.0       1\n",
            "22  1  0  1  1  1   -3.0       1\n",
            "23  0  0  1  1  1   -3.0       1\n",
            "24  0  0  0  1  1   -3.0       1\n",
            "25  1  0  0  1  1   -3.0       1\n",
            "1   1  0  0  0  0   -2.0       1\n",
            "5   1  1  0  1  0   -2.0       1\n",
            "10  1  1  1  1  0   -2.0       1\n",
            "15  0  0  1  0  0   -2.0       1\n",
            "16  0  0  1  0  1   -2.0       1\n",
            "20  0  1  1  1  1   -2.0       1\n",
            "26  1  1  0  1  1   -2.0       1\n",
            "31  0  0  0  0  1   -2.0       1\n",
            "0   0  0  0  0  0    0.0       1\n",
            "21  1  1  1  1  1    0.0       1\n",
            "['BINARY', 32 rows, 32 samples, 5 variables]\n"
          ]
        },
        {
          "output_type": "stream",
          "name": "stderr",
          "text": [
            "<ipython-input-19-8a0d83c8786b>:2: SamplerUnknownArgWarning: Ignoring unknown kwarg: 'num_reads'\n",
            "  result = sampler.sample(qubo, num_reads=10)\n"
          ]
        }
      ]
    },
    {
      "cell_type": "code",
      "source": [
        "!dwave config create"
      ],
      "metadata": {
        "id": "KQqUP8_lfTqM"
      },
      "execution_count": null,
      "outputs": []
    }
  ]
}