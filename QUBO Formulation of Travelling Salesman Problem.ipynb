{
 "cells": [
  {
   "cell_type": "markdown",
   "id": "f13aabba",
   "metadata": {},
   "source": [
    "# QUBO Formulation of Travelling Salesman Problem"
   ]
  },
  {
   "cell_type": "markdown",
   "id": "4ed6a86a",
   "metadata": {},
   "source": [
    "## QUBO formula\n",
    "\n",
    "$$F(X_1, X_2, ... , X_N) =\\sum_{i=1}^N c_i X_i +\\sum_{i=1}^N \\sum_{j=1}^i Q_{ij} \\times X_i \\times X_j$$\n",
    "with $$X_i \\in \\{0,1\\}$$ and $$c_i, Q_{ij} \\in R$$\n",
    "\n",
    "**QUBO minimisation:**\n",
    "- $N$ is the number of decision variables (problem size)\n",
    "- $X_i$ are the decision variables\n",
    "- $c_i, Q_{ij}$ are given parameters identifying the QUBO instance (coefficients of linear and quadratic terms respectively)\n",
    "- $F$ is the objective function to minimise\n",
    "\n",
    "**QUBO example:**\n",
    "\n",
    "$$F(X_1, X_2, X_3, X_4) = 5 X_1 -3 X_2 -8 X_3 -6 x_4 + 4 X_1X_2 + 8 X_1 X_3 - 2 X_2 X_3 + 10 X_3 X_4$$"
   ]
  },
  {
   "cell_type": "markdown",
   "id": "aaeb7564",
   "metadata": {},
   "source": [
    "## QUBO formulation steps\n",
    "\n",
    "**INPUT: generic constrained combinatorial optimisation problem**\n",
    "\n",
    "1. Non-binary optimisation problem: binary encoding of decision variables\n",
    "2. Constrained optimisation problem: use penalty functions to embed constraints in the objective function\n",
    "3. Non-polynomial objective function: transform the objective function to a polynomial\n",
    "4. Non-quadratic objective function: reduce the degree of the polynomial from higher order to quadratic\n",
    "\n",
    "**OUTPUT: QUBO formulation of input problem**\n",
    "\n",
    "\n",
    "\n"
   ]
  },
  {
   "cell_type": "markdown",
   "id": "9d433fb9",
   "metadata": {},
   "source": [
    "## Travelling Salesman Problem"
   ]
  },
  {
   "cell_type": "markdown",
   "id": "212c7140",
   "metadata": {},
   "source": [
    "### Problem Statement\n",
    "\n",
    "The travelling salesman problem asks the following question: \"Given a list of cities and the distances between each pair of cities, what is the shortest possible route that visits each city and returns to the origin city?\" \n"
   ]
  },
  {
   "cell_type": "markdown",
   "id": "07985353",
   "metadata": {},
   "source": [
    "### Direct High-Level Formulation \n",
    "\n",
    "Solutions are tours represented as permuations whose tour lenght is to minimise:\n",
    "\n",
    "minimize f(x) = $(\\sum_{i=1}^{n-1} d_{x_i,x_{i+1}}) + d_{x_n,x_1}$ (tour lenght)\n",
    "\n",
    "subject to (x is a permutation):\n",
    "\n",
    "$x \\in [1, n]^n$ (x is an integer vector of size n with entries between 1 and n) \n",
    "\n",
    "$\\forall i, j \\in [1, n]$ with $i < j: x_i \\neq x_j$ (all entries of x are unique)"
   ]
  },
  {
   "cell_type": "markdown",
   "id": "ae50af96",
   "metadata": {},
   "source": [
    "### TSP working example: High-Level Formulation"
   ]
  },
  {
   "cell_type": "code",
   "execution_count": 1,
   "id": "9d6767b7",
   "metadata": {},
   "outputs": [],
   "source": [
    "import random\n",
    "from pprint import pprint\n",
    "import numpy as np\n",
    "from numpy import array, dot\n",
    "from numpy.linalg import inv\n",
    "from itertools import combinations, product, permutations\n",
    "from numpy import argmax"
   ]
  },
  {
   "cell_type": "markdown",
   "id": "591507c7",
   "metadata": {},
   "source": [
    "<img src=\"https://i2.wp.com/www.techiedelight.com/wp-content/uploads/1.png?zoom=2.5&resize=270%2C282&ssl=1\" width=\"200\">"
   ]
  },
  {
   "cell_type": "code",
   "execution_count": 2,
   "id": "5e2c54e2",
   "metadata": {},
   "outputs": [],
   "source": [
    "### Problem Instance (see above)\n",
    "\n",
    "n = 4 # number of cities\n",
    "\n",
    "dist = [[0, 10, 50, 45], [10, 0, 25, 25], [50, 25, 0, 40], [45, 25, 40, 0]]\n",
    "\n",
    "### Minimum: (A,B,C,D), tour len: 120\n"
   ]
  },
  {
   "cell_type": "code",
   "execution_count": 3,
   "id": "0bf82458",
   "metadata": {},
   "outputs": [],
   "source": [
    "### High-level Formulation\n",
    "\n",
    "# tour len\n",
    "def objective_function(x): return sum(dist[x[i]][x[(i+1) % n]] for i in range(n))  # to minimise\n",
    "\n",
    "# domain: x is a permutation of 1 ... n\n"
   ]
  },
  {
   "cell_type": "code",
   "execution_count": 4,
   "id": "b3e3fca2",
   "metadata": {},
   "outputs": [
    {
     "data": {
      "text/plain": [
       "(array([0, 1, 3, 2]), 125)"
      ]
     },
     "execution_count": 4,
     "metadata": {},
     "output_type": "execute_result"
    }
   ],
   "source": [
    "### Random solution\n",
    "    \n",
    "x = np.random.permutation([0, 1, 2, 3])\n",
    "\n",
    "#x = [0, 1, 2, 3] # optimum\n",
    "\n",
    "x, objective_function(x) \n"
   ]
  },
  {
   "cell_type": "code",
   "execution_count": 5,
   "id": "4a1b6e70",
   "metadata": {},
   "outputs": [
    {
     "data": {
      "text/plain": [
       "((0, 1, 2, 3), 120)"
      ]
     },
     "execution_count": 5,
     "metadata": {},
     "output_type": "execute_result"
    }
   ],
   "source": [
    "### Find Optimum by Enumeration\n",
    "\n",
    "min([ (x, objective_function(x)) for x in permutations(range(n), n) ], key=lambda y: y[1])"
   ]
  },
  {
   "cell_type": "markdown",
   "id": "eb5177fb",
   "metadata": {},
   "source": [
    "This is a correct global minimum (A-B-C-D)"
   ]
  },
  {
   "cell_type": "markdown",
   "id": "7e6836d5",
   "metadata": {},
   "source": [
    "### 1. Binary Representation (Dantzig-Fulkerson-Johnson formulation)\n",
    "\n",
    "We use a graph to represent directed tours. Label the cities with the numbers $1$ to $n$ (nodes) and define arcs as follows:\n",
    "\n",
    "$ x_{ij} = \\begin{cases} 1 & \\text{the path goes from city } i \\text{ to city } j \\\\ 0 & \\text{otherwise} \\end{cases} $\n",
    "\n",
    "Take $c_{ij}$ to be the distance from city $i$ to city $j$ (weights on arcs). Then TSP can be written as the following binary linear programming problem:\n",
    "\n",
    "$\\begin{align}\n",
    "\\min &\\sum_{i=1}^n \\sum_{j\\ne i,j=1}^nc_{ij}x_{ij}\\colon &&  \\\\\n",
    "     & \\sum_{i=1,i\\ne j}^n x_{ij} = 1 && j=1, \\ldots, n; \\\\\n",
    "     & \\sum_{j=1,j\\ne i}^n x_{ij} = 1 && i=1, \\ldots, n; \\\\\n",
    "     & \\sum_{i \\in Q}{\\sum_{j \\in Q}{x_{ij}}} \\leq |Q| - 1 && \\forall Q \\subseteq \\{2, \\ldots, n\\} \\\\\n",
    "\\end{align}$\n",
    "\n",
    "The objective function (to minimise) is the sum of the length of all the arcs in the tour.\n",
    "The first group of constraints means enter every city $j$ exactly once. The second group of constraints means exit every city $i$ exactly once. The last group of constraints ensures that there are no sub-tours among the non-starting vertices, \n",
    "so the solution returned is a single tour and not the union of smaller tours."
   ]
  },
  {
   "cell_type": "markdown",
   "id": "62f7a5d3",
   "metadata": {},
   "source": [
    "### TSP working example: Binary Representation (Dantzig-Fulkerson-Johnson formulation)\n",
    "\n",
    "This is the instatiation of the DFJ formulation for the example problem instance introduced earlier.\n",
    "\n",
    "$n = 4$\n",
    "\n",
    "$\\begin{align}\n",
    "\\min & 10 x_{01} + 50 x_{02} + 45 x_{03} + 10 x_{10} + 25 x_{12} + 25 x_{13} + 50 x_{20} + 25 x_{21} + 40 x_{23} + 45 x_{30} + 25 x_{31} + 40 x_{32} \\colon && \\\\\n",
    "& \\\\\n",
    "& x_{10} + x_{20} + x_{30} = 1  \\\\\n",
    "& x_{01} + x_{21} + x_{31} = 1  \\\\\n",
    "& x_{02} + x_{12} + x_{32} = 1  \\\\\n",
    "& x_{03} + x_{13} + x_{23} = 1  \\\\\n",
    "& \\\\\n",
    "& x_{01} + x_{02} + x_{03} = 1  \\\\\n",
    "& x_{10} + x_{12} + x_{13} = 1  \\\\\n",
    "& x_{20} + x_{21} + x_{23} = 1  \\\\\n",
    "& x_{30} + x_{31} + x_{32} = 1  \\\\\n",
    "& \\\\\n",
    "& x_{11} \\leq 0 \\\\ %{1}\n",
    "& x_{22} \\leq 0 \\\\ %{2}\n",
    "& x_{33} \\leq 0 \\\\ %{3}\n",
    "& x_{11} + x_{12} + x_{21} + x_{22} \\leq 1 \\\\ %{1,2}\n",
    "& x_{11} + x_{13} + x_{31} + x_{33} \\leq 1 \\\\ %{1,3}\n",
    "& x_{22} + x_{23} + x_{32} + x_{33} \\leq 1 \\\\ %{2,3}\n",
    "& x_{11} + x_{12} + x_{13} + x_{21} + x_{22} + x_{23} + x_{31} + x_{32} + x_{33} \\leq 2 \\\\ %{1,2,3}\n",
    "\\end{align}$\n",
    "\n",
    " "
   ]
  },
  {
   "cell_type": "markdown",
   "id": "f13b75f2",
   "metadata": {},
   "source": [
    "### 2. Removing Constraints (Penalty Method)\n",
    "\n",
    "To transform a constrained optimisation problem into an unconstrained one, we need to embed the constraints in the objective function. This can be done by first wriring the constraints as equality constraints, and then using a penaltie to embed these in the objective function such that the global minimum of the resulting uncontrained problem corresponds to the global minimum of the original constrained problem. This can always be do by choosing suitable large penalty weights for the constraints.\n",
    "\n",
    "**Non-Negatve Equality Constraints** \n",
    "\n",
    "$\\begin{align}\n",
    "\\min &\\sum_{i=1}^n \\sum_{j\\ne i,j=1}^nc_{ij}x_{ij}\\colon &&  \\\\\n",
    "     & \\sum_{i=1,i\\ne j}^n x_{ij} = 1 && \\rightarrow (\\sum_{i=1,i\\ne j}^n x_{ij} - 1)^2=0 \\\\\n",
    "     & \\sum_{j=1,j\\ne i}^n x_{ij} = 1 && \\rightarrow (\\sum_{j=1,j\\ne i}^n x_{ij} - 1)^2=0 \\\\\n",
    "     & \\sum_{i \\in Q}{\\sum_{j \\in Q}{x_{ij}}} \\leq |Q| - 1 &&  \\rightarrow (\\sum_{i \\in Q}{\\sum_{j \\in Q}{x_{ij}}} - |Q| + 1 + Y)^2=0 \\\\\n",
    "\\end{align}$\n",
    "\n",
    "Added slack variable $Y$ to convert inequality to equality.\n",
    "\n",
    "**Unconstraned problem**\n",
    "\n",
    "$\\begin{align}\n",
    "\\min &\\sum_{i=1}^n \\sum_{j\\ne i,j=1}^nc_{ij}x_{ij} +  \\\\\n",
    "     & A (\\sum_{i=1,i\\ne j}^n x_{ij} - 1)^2 + \\\\\n",
    "     & B (\\sum_{j=1,j\\ne i}^n x_{ij} - 1)^2 + \\\\\n",
    "     & C (\\sum_{i \\in Q}{\\sum_{j \\in Q}{x_{ij}}} - |Q| + 1 + Y)^2 \\\\\n",
    "\\end{align}$\n",
    "\n",
    "For suitably large positive penalty weights $A$, $B$ and $C$.\n",
    "\n",
    "In some cases, penalty factors can be chosen analytically using mathematical properties of the problem at hand. In other cases, they need to be determined experimentally (by sequential trial and error). The aim is to find the smallest factors that do not lead to infeasible optima or near-optimal solutions."
   ]
  },
  {
   "cell_type": "markdown",
   "id": "48677f9f",
   "metadata": {},
   "source": [
    "### TSP working example: Removing Constraints (Penalty Method)\n",
    "\n",
    "**Non-Negatve Equality Constraints**\n",
    "\n",
    "$\\begin{align}\n",
    "\\min & 10 x_{01} + 50 x_{02} + 45 x_{03} + 10 x_{10} + 25 x_{12} + 25 x_{13} + 50 x_{20} + 25 x_{21} + 40 x_{23} + 45 x_{30} + 25 x_{31} + 40 x_{32} \\colon && \\\\\n",
    "& \\\\\n",
    "& (x_{10} + x_{20} + x_{30} - 1)^2 = 0 \\\\\n",
    "& (x_{01} + x_{21} + x_{31} - 1)^2 = 0 \\\\\n",
    "& (x_{02} + x_{12} + x_{32} - 1)^2 = 0 \\\\\n",
    "& (x_{03} + x_{13} + x_{23} - 1)^2 = 0 \\\\\n",
    "& \\\\\n",
    "& (x_{01} + x_{02} + x_{03} - 1)^2 = 0 \\\\\n",
    "& (x_{10} + x_{12} + x_{13} - 1)^2 = 0 \\\\\n",
    "& (x_{20} + x_{21} + x_{23} - 1)^2 = 0 \\\\\n",
    "& (x_{30} + x_{31} + x_{32} - 1)^2 = 0 \\\\\n",
    "& \\\\\n",
    "& x_{11}^2 = 0 \\\\\n",
    "& x_{22}^2 = 0 \\\\\n",
    "& x_{33}^2 = 0 \\\\\n",
    "& (x_{11} + x_{12} + x_{21} + x_{22} + y_0 - 1)^2 = 0 \\\\ \n",
    "& (x_{11} + x_{13} + x_{31} + x_{33} + y_1 - 1)^2 = 0 \\\\ \n",
    "& (x_{22} + x_{23} + x_{32} + x_{33} + y_2 - 1)^2 = 0 \\\\ \n",
    "& (x_{11} + x_{12} + x_{13} + x_{21} + x_{22} + x_{23} + x_{31} + x_{32} + x_{33} + y_3 + y_4 - 2)^2 = 0 \\\\\n",
    "\\end{align}$\n",
    "\n",
    "where $y_0 \\cdot y_4$ are slack variables (additional binary decision variables that allow to convert inequality constraints into equality constraints).\n",
    "\n",
    "**Unconstraned problem**\n",
    "\n",
    "$\\begin{align}\n",
    "\\min & 10 x_{01} + 50 x_{02} + 45 x_{03} + 10 x_{10} + 25 x_{12} + 25 x_{13} + 50 x_{20} + 25 x_{21} + 40 x_{23} + 45 x_{30} + 25 x_{31} + 40 x_{32} + \\\\\n",
    "& \\\\\n",
    "& A \\cdot (x_{10} + x_{20} + x_{30} - 1)^2 + \\\\\n",
    "& A \\cdot (x_{01} + x_{21} + x_{31} - 1)^2 + \\\\\n",
    "& A \\cdot (x_{02} + x_{12} + x_{32} - 1)^2 + \\\\\n",
    "& A \\cdot (x_{03} + x_{13} + x_{23} - 1)^2 + \\\\\n",
    "& \\\\\n",
    "& B \\cdot (x_{01} + x_{02} + x_{03} - 1)^2 + \\\\\n",
    "& B \\cdot (x_{10} + x_{12} + x_{13} - 1)^2 + \\\\\n",
    "& B \\cdot (x_{20} + x_{21} + x_{23} - 1)^2 + \\\\\n",
    "& B \\cdot (x_{30} + x_{31} + x_{32} - 1)^2 + \\\\\n",
    "& \\\\\n",
    "& C \\cdot x_{11}^2 + \\\\\n",
    "& C \\cdot x_{22}^2 + \\\\\n",
    "& C \\cdot x_{33}^2 + \\\\\n",
    "& C \\cdot (x_{11} + x_{12} + x_{21} + x_{22} + y_0 - 1)^2 + \\\\\n",
    "& C \\cdot (x_{11} + x_{13} + x_{31} + x_{33} + y_1 - 1)^2 + \\\\ \n",
    "& C \\cdot (x_{22} + x_{23} + x_{32} + x_{33} + y_2 - 1)^2 + \\\\\n",
    "& C \\cdot (x_{11} + x_{12} + x_{13} + x_{21} + x_{22} + x_{23} + x_{31} + x_{32} + x_{33} + y_3 + y_4 - 2)^2 \\\\\n",
    "\\end{align}$\n",
    "\n",
    "Choice of $A$, $B$ and $C$: since the contraints are integer-valued, we can choose $A=B=C=UB(TourLen)-LB(TourLen)+1$ to guarantee that *any* feasible solution has lower objective function than *any* infeasible solution (this in turn guaratees that the global minimum of the original constrained problem is the same as the global minima of the new unconstrained problem). Simple LB and UB for the TSP are obtained by using the sum of the legths of the $n$ shortest edges and $n$ largest edges, respectively. So, for this specific problem insance we have $LB=10+25+25+40=100$, $UB=50+45+40+35=170$ and $A=B=C=170-100+1=71$. "
   ]
  },
  {
   "cell_type": "code",
   "execution_count": 44,
   "id": "fc56a35c",
   "metadata": {},
   "outputs": [],
   "source": [
    "### Unconstrained Binary Formulation\n",
    "\n",
    "# penalty weights\n",
    "A = B = C = 71\n",
    "\n",
    "# tour len to minimise\n",
    "def objective_function(x, y):\n",
    "    \n",
    "    return \\\n",
    "    \\\n",
    "    10*x[0,1] + 50*x[0,2] + 45*x[0,3] + 10*x[1,0] + 25*x[1,2] + 25*x[1,3] + 50*x[2,0] + 25*x[2,1] + 40*x[2,3] + 45*x[3,0] \\\n",
    "    + 25*x[3,1] + 40*x[3,2] + \\\n",
    "    \\\n",
    "    A * (x[1,0] + x[2,0] + x[3,0] - 1)**2 + \\\n",
    "    A * (x[0,1] + x[2,1] + x[3,1] - 1)**2 + \\\n",
    "    A * (x[0,2] + x[1,2] + x[3,2] - 1)**2 + \\\n",
    "    A * (x[0,3] + x[1,3] + x[2,3] - 1)**2 + \\\n",
    "    \\\n",
    "    B * (x[0,1] + x[0,2] + x[0,3] - 1)**2 + \\\n",
    "    B * (x[1,0] + x[1,2] + x[1,3] - 1)**2 + \\\n",
    "    B * (x[2,0] + x[2,1] + x[2,3] - 1)**2 + \\\n",
    "    B * (x[3,0] + x[3,1] + x[3,2] - 1)**2 + \\\n",
    "    \\\n",
    "    C * x[1,1]**2 + \\\n",
    "    C * x[2,2]**2 + \\\n",
    "    C * x[3,3]**2 + \\\n",
    "    C * (x[1,1] + x[1,2] + x[2,1] + x[2,2] + y[0] - 1)**2 + \\\n",
    "    C * (x[1,1] + x[1,3] + x[3,1] + x[3,3] + y[1] - 1)**2 + \\\n",
    "    C * (x[2,2] + x[2,3] + x[3,2] + x[3,3] + y[2] - 1)**2 + \\\n",
    "    C * (x[1,1] + x[1,2] + x[1,3] + x[2,1] + x[2,2] + x[2,3] + x[3,1] + x[3,2] + x[3,3] + y[3] + y[4] - 2)**2 \n",
    "    \n",
    "\n",
    "# domain: decision variables x is a binary matrix nxn, slack variables y is a binary vector of size 5\n"
   ]
  },
  {
   "cell_type": "code",
   "execution_count": 45,
   "id": "f53eee7a",
   "metadata": {},
   "outputs": [
    {
     "data": {
      "text/plain": [
       "(array([[1, 1, 0, 0],\n",
       "        [1, 1, 0, 1],\n",
       "        [0, 1, 0, 0],\n",
       "        [0, 1, 0, 0]]),\n",
       " array([1, 0, 0, 0, 1]),\n",
       " 1870)"
      ]
     },
     "execution_count": 45,
     "metadata": {},
     "output_type": "execute_result"
    }
   ],
   "source": [
    "### Random solution\n",
    "    \n",
    "x = np.random.choice([0, 1], size=(n, n))\n",
    "\n",
    "y = np.random.choice([0, 1], size=(5))\n",
    "\n",
    "x, y, objective_function(x, y) \n"
   ]
  },
  {
   "cell_type": "code",
   "execution_count": 46,
   "id": "2b98c78a",
   "metadata": {},
   "outputs": [
    {
     "data": {
      "text/plain": [
       "(array([[0, 0, 0, 1],\n",
       "        [1, 0, 0, 0],\n",
       "        [0, 1, 0, 0],\n",
       "        [0, 0, 1, 0]]),\n",
       " 120)"
      ]
     },
     "execution_count": 46,
     "metadata": {},
     "output_type": "execute_result"
    }
   ],
   "source": [
    "### Find Optimum by Enumeration\n",
    "\n",
    "min([ (np.array(x).reshape((n,n)), objective_function(np.array(x).reshape((n,n)),y)) for x in product([0,1], repeat=n**2) for y in product([0,1], repeat=5)], key=lambda k: k[1])"
   ]
  },
  {
   "cell_type": "markdown",
   "id": "a2d72f23",
   "metadata": {},
   "source": [
    "This is a correct global minimum (A-D-C-B)"
   ]
  },
  {
   "cell_type": "markdown",
   "id": "1c4fc77f",
   "metadata": {},
   "source": [
    "### 3. Transform the objective function to a polynomial\n",
    "\n",
    "The unconstrained problem is not expressed as a polynomial in $x_{ij}$. To do so, the squares need expansion and then the resulting expression collected so that it is expressed as monomials involving $x_{ij}$. This can be done using computer algebra libraries e.g., Sympy in Python. To get a numeric expression for the coefficients, we need to substitute numerical values for $n$, $c_{ij}$ and $|Q|$. "
   ]
  },
  {
   "cell_type": "markdown",
   "id": "b2653929",
   "metadata": {},
   "source": [
    "### TSP working example: Transform the objective function to a polynomial\n",
    "\n",
    "The code below get a sybolic expression of the unconstrained problem for the working example, and put it in a polynomial form. \n",
    "\n",
    "The obtained polynomial is a generic symbolic polynomial, with the further assumption that the decision variables are binary (i.e., psuedo-Boolean polynomial), the squared variables should be reduced to linear variables. "
   ]
  },
  {
   "cell_type": "code",
   "execution_count": 48,
   "id": "90df8803",
   "metadata": {},
   "outputs": [
    {
     "data": {
      "text/latex": [
       "$\\displaystyle \\operatorname{Poly}{\\left( 142 X_{0, 1}^{2} + 142 X_{0, 1}X_{0, 2} + 142 X_{0, 1}X_{0, 3} + 142 X_{0, 1}X_{2, 1} + 142 X_{0, 1}X_{3, 1} - 274 X_{0, 1} + 142 X_{0, 2}^{2} + 142 X_{0, 2}X_{0, 3} + 142 X_{0, 2}X_{1, 2} + 142 X_{0, 2}X_{3, 2} - 234 X_{0, 2} + 142 X_{0, 3}^{2} + 142 X_{0, 3}X_{1, 3} + 142 X_{0, 3}X_{2, 3} - 239 X_{0, 3} + 142 X_{1, 0}^{2} + 142 X_{1, 0}X_{1, 2} + 142 X_{1, 0}X_{1, 3} + 142 X_{1, 0}X_{2, 0} + 142 X_{1, 0}X_{3, 0} - 274 X_{1, 0} + 284 X_{1, 1}^{2} + 284 X_{1, 1}X_{1, 2} + 284 X_{1, 1}X_{1, 3} + 284 X_{1, 1}X_{2, 1} + 284 X_{1, 1}X_{2, 2} + 142 X_{1, 1}X_{2, 3} + 284 X_{1, 1}X_{3, 1} + 142 X_{1, 1}X_{3, 2} + 284 X_{1, 1}X_{3, 3} + 142 X_{1, 1}Y_{0, 0} + 142 X_{1, 1}Y_{0, 1} + 142 X_{1, 1}Y_{0, 3} + 142 X_{1, 1}Y_{0, 4} - 568 X_{1, 1} + 284 X_{1, 2}^{2} + 284 X_{1, 2}X_{1, 3} + 284 X_{1, 2}X_{2, 1} + 284 X_{1, 2}X_{2, 2} + 142 X_{1, 2}X_{2, 3} + 142 X_{1, 2}X_{3, 1} + 284 X_{1, 2}X_{3, 2} + 142 X_{1, 2}X_{3, 3} + 142 X_{1, 2}Y_{0, 0} + 142 X_{1, 2}Y_{0, 3} + 142 X_{1, 2}Y_{0, 4} - 685 X_{1, 2} + 284 X_{1, 3}^{2} + 142 X_{1, 3}X_{2, 1} + 142 X_{1, 3}X_{2, 2} + 284 X_{1, 3}X_{2, 3} + 284 X_{1, 3}X_{3, 1} + 142 X_{1, 3}X_{3, 2} + 284 X_{1, 3}X_{3, 3} + 142 X_{1, 3}Y_{0, 1} + 142 X_{1, 3}Y_{0, 3} + 142 X_{1, 3}Y_{0, 4} - 685 X_{1, 3} + 142 X_{2, 0}^{2} + 142 X_{2, 0}X_{2, 1} + 142 X_{2, 0}X_{2, 3} + 142 X_{2, 0}X_{3, 0} - 234 X_{2, 0} + 284 X_{2, 1}^{2} + 284 X_{2, 1}X_{2, 2} + 284 X_{2, 1}X_{2, 3} + 284 X_{2, 1}X_{3, 1} + 142 X_{2, 1}X_{3, 2} + 142 X_{2, 1}X_{3, 3} + 142 X_{2, 1}Y_{0, 0} + 142 X_{2, 1}Y_{0, 3} + 142 X_{2, 1}Y_{0, 4} - 685 X_{2, 1} + 284 X_{2, 2}^{2} + 284 X_{2, 2}X_{2, 3} + 142 X_{2, 2}X_{3, 1} + 284 X_{2, 2}X_{3, 2} + 284 X_{2, 2}X_{3, 3} + 142 X_{2, 2}Y_{0, 0} + 142 X_{2, 2}Y_{0, 2} + 142 X_{2, 2}Y_{0, 3} + 142 X_{2, 2}Y_{0, 4} - 568 X_{2, 2} + 284 X_{2, 3}^{2} + 142 X_{2, 3}X_{3, 1} + 284 X_{2, 3}X_{3, 2} + 284 X_{2, 3}X_{3, 3} + 142 X_{2, 3}Y_{0, 2} + 142 X_{2, 3}Y_{0, 3} + 142 X_{2, 3}Y_{0, 4} - 670 X_{2, 3} + 142 X_{3, 0}^{2} + 142 X_{3, 0}X_{3, 1} + 142 X_{3, 0}X_{3, 2} - 239 X_{3, 0} + 284 X_{3, 1}^{2} + 284 X_{3, 1}X_{3, 2} + 284 X_{3, 1}X_{3, 3} + 142 X_{3, 1}Y_{0, 1} + 142 X_{3, 1}Y_{0, 3} + 142 X_{3, 1}Y_{0, 4} - 685 X_{3, 1} + 284 X_{3, 2}^{2} + 284 X_{3, 2}X_{3, 3} + 142 X_{3, 2}Y_{0, 2} + 142 X_{3, 2}Y_{0, 3} + 142 X_{3, 2}Y_{0, 4} - 670 X_{3, 2} + 284 X_{3, 3}^{2} + 142 X_{3, 3}Y_{0, 1} + 142 X_{3, 3}Y_{0, 2} + 142 X_{3, 3}Y_{0, 3} + 142 X_{3, 3}Y_{0, 4} - 568 X_{3, 3} + 71 Y_{0, 0}^{2} - 142 Y_{0, 0} + 71 Y_{0, 1}^{2} - 142 Y_{0, 1} + 71 Y_{0, 2}^{2} - 142 Y_{0, 2} + 71 Y_{0, 3}^{2} + 142 Y_{0, 3}Y_{0, 4} - 284 Y_{0, 3} + 71 Y_{0, 4}^{2} - 284 Y_{0, 4} + 1065, X_{0, 1}, X_{0, 2}, X_{0, 3}, X_{1, 0}, X_{1, 1}, X_{1, 2}, X_{1, 3}, X_{2, 0}, X_{2, 1}, X_{2, 2}, X_{2, 3}, X_{3, 0}, X_{3, 1}, X_{3, 2}, X_{3, 3}, Y_{0, 0}, Y_{0, 1}, Y_{0, 2}, Y_{0, 3}, Y_{0, 4}, domain=\\mathbb{Z} \\right)}$"
      ],
      "text/plain": [
       "Poly(142*X[0, 1]**2 + 142*X[0, 1]*X[0, 2] + 142*X[0, 1]*X[0, 3] + 142*X[0, 1]*X[2, 1] + 142*X[0, 1]*X[3, 1] - 274*X[0, 1] + 142*X[0, 2]**2 + 142*X[0, 2]*X[0, 3] + 142*X[0, 2]*X[1, 2] + 142*X[0, 2]*X[3, 2] - 234*X[0, 2] + 142*X[0, 3]**2 + 142*X[0, 3]*X[1, 3] + 142*X[0, 3]*X[2, 3] - 239*X[0, 3] + 142*X[1, 0]**2 + 142*X[1, 0]*X[1, 2] + 142*X[1, 0]*X[1, 3] + 142*X[1, 0]*X[2, 0] + 142*X[1, 0]*X[3, 0] - 274*X[1, 0] + 284*X[1, 1]**2 + 284*X[1, 1]*X[1, 2] + 284*X[1, 1]*X[1, 3] + 284*X[1, 1]*X[2, 1] + 284*X[1, 1]*X[2, 2] + 142*X[1, 1]*X[2, 3] + 284*X[1, 1]*X[3, 1] + 142*X[1, 1]*X[3, 2] + 284*X[1, 1]*X[3, 3] + 142*X[1, 1]*Y[0, 0] + 142*X[1, 1]*Y[0, 1] + 142*X[1, 1]*Y[0, 3] + 142*X[1, 1]*Y[0, 4] - 568*X[1, 1] + 284*X[1, 2]**2 + 284*X[1, 2]*X[1, 3] + 284*X[1, 2]*X[2, 1] + 284*X[1, 2]*X[2, 2] + 142*X[1, 2]*X[2, 3] + 142*X[1, 2]*X[3, 1] + 284*X[1, 2]*X[3, 2] + 142*X[1, 2]*X[3, 3] + 142*X[1, 2]*Y[0, 0] + 142*X[1, 2]*Y[0, 3] + 142*X[1, 2]*Y[0, 4] - 685*X[1, 2] + 284*X[1, 3]**2 + 142*X[1, 3]*X[2, 1] + 142*X[1, 3]*X[2, 2] + 284*X[1, 3]*X[2, 3] + 284*X[1, 3]*X[3, 1] + 142*X[1, 3]*X[3, 2] + 284*X[1, 3]*X[3, 3] + 142*X[1, 3]*Y[0, 1] + 142*X[1, 3]*Y[0, 3] + 142*X[1, 3]*Y[0, 4] - 685*X[1, 3] + 142*X[2, 0]**2 + 142*X[2, 0]*X[2, 1] + 142*X[2, 0]*X[2, 3] + 142*X[2, 0]*X[3, 0] - 234*X[2, 0] + 284*X[2, 1]**2 + 284*X[2, 1]*X[2, 2] + 284*X[2, 1]*X[2, 3] + 284*X[2, 1]*X[3, 1] + 142*X[2, 1]*X[3, 2] + 142*X[2, 1]*X[3, 3] + 142*X[2, 1]*Y[0, 0] + 142*X[2, 1]*Y[0, 3] + 142*X[2, 1]*Y[0, 4] - 685*X[2, 1] + 284*X[2, 2]**2 + 284*X[2, 2]*X[2, 3] + 142*X[2, 2]*X[3, 1] + 284*X[2, 2]*X[3, 2] + 284*X[2, 2]*X[3, 3] + 142*X[2, 2]*Y[0, 0] + 142*X[2, 2]*Y[0, 2] + 142*X[2, 2]*Y[0, 3] + 142*X[2, 2]*Y[0, 4] - 568*X[2, 2] + 284*X[2, 3]**2 + 142*X[2, 3]*X[3, 1] + 284*X[2, 3]*X[3, 2] + 284*X[2, 3]*X[3, 3] + 142*X[2, 3]*Y[0, 2] + 142*X[2, 3]*Y[0, 3] + 142*X[2, 3]*Y[0, 4] - 670*X[2, 3] + 142*X[3, 0]**2 + 142*X[3, 0]*X[3, 1] + 142*X[3, 0]*X[3, 2] - 239*X[3, 0] + 284*X[3, 1]**2 + 284*X[3, 1]*X[3, 2] + 284*X[3, 1]*X[3, 3] + 142*X[3, 1]*Y[0, 1] + 142*X[3, 1]*Y[0, 3] + 142*X[3, 1]*Y[0, 4] - 685*X[3, 1] + 284*X[3, 2]**2 + 284*X[3, 2]*X[3, 3] + 142*X[3, 2]*Y[0, 2] + 142*X[3, 2]*Y[0, 3] + 142*X[3, 2]*Y[0, 4] - 670*X[3, 2] + 284*X[3, 3]**2 + 142*X[3, 3]*Y[0, 1] + 142*X[3, 3]*Y[0, 2] + 142*X[3, 3]*Y[0, 3] + 142*X[3, 3]*Y[0, 4] - 568*X[3, 3] + 71*Y[0, 0]**2 - 142*Y[0, 0] + 71*Y[0, 1]**2 - 142*Y[0, 1] + 71*Y[0, 2]**2 - 142*Y[0, 2] + 71*Y[0, 3]**2 + 142*Y[0, 3]*Y[0, 4] - 284*Y[0, 3] + 71*Y[0, 4]**2 - 284*Y[0, 4] + 1065, X[0, 1], X[0, 2], X[0, 3], X[1, 0], X[1, 1], X[1, 2], X[1, 3], X[2, 0], X[2, 1], X[2, 2], X[2, 3], X[3, 0], X[3, 1], X[3, 2], X[3, 3], Y[0, 0], Y[0, 1], Y[0, 2], Y[0, 3], Y[0, 4], domain='ZZ')"
      ]
     },
     "execution_count": 48,
     "metadata": {},
     "output_type": "execute_result"
    }
   ],
   "source": [
    "from sympy import MatrixSymbol, Matrix, poly\n",
    "X = MatrixSymbol('X', n, n)\n",
    "Y = MatrixSymbol('Y', 1, 5)\n",
    "sym_objective_function = poly(objective_function(X, Y))\n",
    "sym_objective_function"
   ]
  },
  {
   "cell_type": "markdown",
   "id": "33cd24ee",
   "metadata": {},
   "source": [
    "### 4. Reduce the degree of the polynomial if not quadratic\n",
    "\n",
    "Any pseudo-boolean function can be expressed as a polynomial. However the resulting polynomial may be of degree larger than two i.e., not a QUBO. There are standard mathematical reduction methods to transform higher order polynomials to quadratic polynomials, trading lower order for additional variables. Many optimisation problems do not need this step, i.e., are naturally quadratic (being a little careful with the formulation). But some problems are naturally higher order, e.g., cubic. TSP as formulated above is naturally quadratic, and it does not need further reduction.  "
   ]
  },
  {
   "cell_type": "markdown",
   "id": "68213260",
   "metadata": {},
   "source": [
    "### TSP working example: Reduce the degree of the polynomial if not quadratic\n",
    "\n",
    "The obtained pseudo-Boolean polynmial is quadratic so it is a QUBO and no degree reduction is required."
   ]
  },
  {
   "cell_type": "markdown",
   "id": "1eb9b21b",
   "metadata": {},
   "source": [
    "### Solving a QUBO and Solution Validation\n",
    "\n",
    "Once we have a QUBO for a given problem, it can be solved using a classical computer using e.g., stochastic search methods as Simulated Annealing, Tabu Search, and Genetic Algorithms. Or it can be solved on Quantum Computers both Annealers and Gate-Based Architectures (via QAOA). Both classic and quantum solvers have parameters that need tuning. When solving a QUBO on a quantum computer, one may need extra steps e.g., like embedding the QUBO to the physical topology of the machine (Chimera topology for D-wave). Also, quantum computers have a limited number of qbits, and each qbit corresponds to a binary decision variable. So, problem of size larger than the quantum machine needs to be split in separate smaller problems of suitable size. Solved sepratately and then the partial solutions stiched together. Luckly, new D-wave software (hybrid solver) takes care automatically of embedding and problem decomposition. Once a solution is reurned, it needs to be checked and make sure that (i) is feasible (ii) makes sense for the original problem, as a QUBO is only a surrogate of the original problem (guaranteed only to have the same global optimum if the modelling is done without errors), which in practice may have important differences from the original problem.        "
   ]
  },
  {
   "cell_type": "markdown",
   "id": "41f902ac",
   "metadata": {},
   "source": [
    "### TSP working example: Solving a QUBO and Solution Validation\n",
    "\n",
    "The obtained QUBO in symbolic form is wrapped into a callable objective functon. The global optimum computed using the QUBO is the same as the original TSP problem. This validates that the obtained QUBO formulaton is correct.\n"
   ]
  },
  {
   "cell_type": "code",
   "execution_count": 49,
   "id": "7c46fddb",
   "metadata": {},
   "outputs": [],
   "source": [
    "### Wrap symbolic objective function into a function -- very inefficient evaluation!\n",
    "\n",
    "### TODO: For efficiency: much better extracting all coefficients of the polynomial, organise them in a matrix,\n",
    "### and returns a new function that computes the objective function by numerical matrix multiplication\n",
    "\n",
    "def objective_function(x, y):\n",
    "    \n",
    "    return sym_objective_function.subs(X, Matrix(x)).subs(Y, Matrix([y])) \n"
   ]
  },
  {
   "cell_type": "code",
   "execution_count": 50,
   "id": "fc3b22c1",
   "metadata": {},
   "outputs": [
    {
     "data": {
      "text/plain": [
       "(array([[0, 1, 1, 1],\n",
       "        [1, 1, 0, 1],\n",
       "        [1, 1, 0, 0],\n",
       "        [0, 1, 1, 0]]),\n",
       " array([1, 0, 0, 0, 0]),\n",
       " 2552)"
      ]
     },
     "execution_count": 50,
     "metadata": {},
     "output_type": "execute_result"
    }
   ],
   "source": [
    "### Random solution\n",
    "    \n",
    "x = np.random.choice([0, 1], size=(n, n))\n",
    "\n",
    "y = np.random.choice([0, 1], size=(5))\n",
    "\n",
    "x, y, objective_function(x, y) \n",
    "\n",
    "#x, y\n"
   ]
  },
  {
   "cell_type": "code",
   "execution_count": 51,
   "id": "61964eb8",
   "metadata": {},
   "outputs": [
    {
     "data": {
      "text/plain": [
       "(array([[0, 0, 0, 1],\n",
       "        [1, 0, 0, 0],\n",
       "        [0, 1, 0, 0],\n",
       "        [0, 0, 1, 0]]),\n",
       " 120)"
      ]
     },
     "execution_count": 51,
     "metadata": {},
     "output_type": "execute_result"
    }
   ],
   "source": [
    "### Find Optimum by Enumeration -- takes long time\n",
    "\n",
    "min([ (np.array(x).reshape((n,n)), objective_function(np.array(x).reshape((n,n)),y)) for x in product([0,1], repeat=n**2) for y in product([0,1], repeat=5)], key=lambda k: k[1])"
   ]
  },
  {
   "cell_type": "markdown",
   "id": "c82f111f",
   "metadata": {},
   "source": [
    "This is a correct global minimum (A-D-C-B)"
   ]
  }
 ],
 "metadata": {
  "kernelspec": {
   "display_name": "Python 3 (ipykernel)",
   "language": "python",
   "name": "python3"
  },
  "language_info": {
   "codemirror_mode": {
    "name": "ipython",
    "version": 3
   },
   "file_extension": ".py",
   "mimetype": "text/x-python",
   "name": "python",
   "nbconvert_exporter": "python",
   "pygments_lexer": "ipython3",
   "version": "3.9.12"
  }
 },
 "nbformat": 4,
 "nbformat_minor": 5
}
