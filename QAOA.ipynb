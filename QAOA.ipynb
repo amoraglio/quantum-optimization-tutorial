{
  "nbformat": 4,
  "nbformat_minor": 0,
  "metadata": {
    "colab": {
      "provenance": []
    },
    "kernelspec": {
      "name": "python3",
      "display_name": "Python 3"
    },
    "language_info": {
      "name": "python"
    }
  },
  "cells": [
    {
      "cell_type": "code",
      "execution_count": null,
      "metadata": {
        "colab": {
          "base_uri": "https://localhost:8080/"
        },
        "id": "Q6RhG6a6ZGCO",
        "outputId": "5d3add1f-54d5-4d6d-b9d5-6ffc0339cfaa"
      },
      "outputs": [
        {
          "output_type": "stream",
          "name": "stdout",
          "text": [
            "Looking in indexes: https://pypi.org/simple, https://us-python.pkg.dev/colab-wheels/public/simple/\n",
            "Collecting qiskit\n",
            "  Downloading qiskit-0.40.0.tar.gz (14 kB)\n",
            "  Preparing metadata (setup.py) ... \u001b[?25l\u001b[?25hdone\n",
            "Requirement already satisfied: matplotlib in /usr/local/lib/python3.8/dist-packages (3.2.2)\n",
            "Collecting pylatexenc\n",
            "  Downloading pylatexenc-2.10.tar.gz (162 kB)\n",
            "\u001b[2K     \u001b[90m━━━━━━━━━━━━━━━━━━━━━━━━━━━━━━━━━━━━━━━\u001b[0m \u001b[32m162.6/162.6 KB\u001b[0m \u001b[31m3.6 MB/s\u001b[0m eta \u001b[36m0:00:00\u001b[0m\n",
            "\u001b[?25h  Preparing metadata (setup.py) ... \u001b[?25l\u001b[?25hdone\n",
            "Requirement already satisfied: networkx in /usr/local/lib/python3.8/dist-packages (3.0)\n",
            "Requirement already satisfied: scipy in /usr/local/lib/python3.8/dist-packages (1.7.3)\n",
            "Collecting qiskit-terra==0.23.0\n",
            "  Downloading qiskit_terra-0.23.0-cp38-cp38-manylinux_2_17_x86_64.manylinux2014_x86_64.whl (5.1 MB)\n",
            "\u001b[2K     \u001b[90m━━━━━━━━━━━━━━━━━━━━━━━━━━━━━━━━━━━━━━━━\u001b[0m \u001b[32m5.1/5.1 MB\u001b[0m \u001b[31m39.4 MB/s\u001b[0m eta \u001b[36m0:00:00\u001b[0m\n",
            "\u001b[?25hCollecting qiskit-aer==0.11.2\n",
            "  Downloading qiskit_aer-0.11.2-cp38-cp38-manylinux_2_17_x86_64.manylinux2014_x86_64.whl (12.8 MB)\n",
            "\u001b[2K     \u001b[90m━━━━━━━━━━━━━━━━━━━━━━━━━━━━━━━━━━━━━━━━\u001b[0m \u001b[32m12.8/12.8 MB\u001b[0m \u001b[31m52.8 MB/s\u001b[0m eta \u001b[36m0:00:00\u001b[0m\n",
            "\u001b[?25hCollecting qiskit-ibmq-provider==0.19.2\n",
            "  Downloading qiskit_ibmq_provider-0.19.2-py3-none-any.whl (240 kB)\n",
            "\u001b[2K     \u001b[90m━━━━━━━━━━━━━━━━━━━━━━━━━━━━━━━━━━━━━━━\u001b[0m \u001b[32m240.4/240.4 KB\u001b[0m \u001b[31m5.6 MB/s\u001b[0m eta \u001b[36m0:00:00\u001b[0m\n",
            "\u001b[?25hRequirement already satisfied: numpy>=1.16.3 in /usr/local/lib/python3.8/dist-packages (from qiskit-aer==0.11.2->qiskit) (1.21.6)\n",
            "Requirement already satisfied: requests>=2.19 in /usr/local/lib/python3.8/dist-packages (from qiskit-ibmq-provider==0.19.2->qiskit) (2.25.1)\n",
            "Collecting websockets>=10.0\n",
            "  Downloading websockets-10.4-cp38-cp38-manylinux_2_5_x86_64.manylinux1_x86_64.manylinux_2_17_x86_64.manylinux2014_x86_64.whl (106 kB)\n",
            "\u001b[2K     \u001b[90m━━━━━━━━━━━━━━━━━━━━━━━━━━━━━━━━━━━━━━━\u001b[0m \u001b[32m107.0/107.0 KB\u001b[0m \u001b[31m5.6 MB/s\u001b[0m eta \u001b[36m0:00:00\u001b[0m\n",
            "\u001b[?25hRequirement already satisfied: python-dateutil>=2.8.0 in /usr/local/lib/python3.8/dist-packages (from qiskit-ibmq-provider==0.19.2->qiskit) (2.8.2)\n",
            "Collecting requests-ntlm>=1.1.0\n",
            "  Downloading requests_ntlm-1.1.0-py2.py3-none-any.whl (5.7 kB)\n",
            "Requirement already satisfied: urllib3>=1.21.1 in /usr/local/lib/python3.8/dist-packages (from qiskit-ibmq-provider==0.19.2->qiskit) (1.24.3)\n",
            "Collecting websocket-client>=1.0.1\n",
            "  Downloading websocket_client-1.5.0-py3-none-any.whl (55 kB)\n",
            "\u001b[2K     \u001b[90m━━━━━━━━━━━━━━━━━━━━━━━━━━━━━━━━━━━━━━━━\u001b[0m \u001b[32m55.9/55.9 KB\u001b[0m \u001b[31m3.5 MB/s\u001b[0m eta \u001b[36m0:00:00\u001b[0m\n",
            "\u001b[?25hRequirement already satisfied: psutil>=5 in /usr/local/lib/python3.8/dist-packages (from qiskit-terra==0.23.0->qiskit) (5.4.8)\n",
            "Requirement already satisfied: dill>=0.3 in /usr/local/lib/python3.8/dist-packages (from qiskit-terra==0.23.0->qiskit) (0.3.6)\n",
            "Collecting stevedore>=3.0.0\n",
            "  Downloading stevedore-4.1.1-py3-none-any.whl (50 kB)\n",
            "\u001b[2K     \u001b[90m━━━━━━━━━━━━━━━━━━━━━━━━━━━━━━━━━━━━━━━━\u001b[0m \u001b[32m50.0/50.0 KB\u001b[0m \u001b[31m1.7 MB/s\u001b[0m eta \u001b[36m0:00:00\u001b[0m\n",
            "\u001b[?25hCollecting rustworkx>=0.12.0\n",
            "  Downloading rustworkx-0.12.1-cp38-cp38-manylinux_2_17_x86_64.manylinux2014_x86_64.whl (1.9 MB)\n",
            "\u001b[2K     \u001b[90m━━━━━━━━━━━━━━━━━━━━━━━━━━━━━━━━━━━━━━━━\u001b[0m \u001b[32m1.9/1.9 MB\u001b[0m \u001b[31m7.7 MB/s\u001b[0m eta \u001b[36m0:00:00\u001b[0m\n",
            "\u001b[?25hCollecting symengine>=0.9\n",
            "  Downloading symengine-0.9.2-cp38-cp38-manylinux2010_x86_64.whl (37.5 MB)\n",
            "\u001b[2K     \u001b[90m━━━━━━━━━━━━━━━━━━━━━━━━━━━━━━━━━━━━━━━━\u001b[0m \u001b[32m37.5/37.5 MB\u001b[0m \u001b[31m15.2 MB/s\u001b[0m eta \u001b[36m0:00:00\u001b[0m\n",
            "\u001b[?25hRequirement already satisfied: sympy>=1.3 in /usr/local/lib/python3.8/dist-packages (from qiskit-terra==0.23.0->qiskit) (1.7.1)\n",
            "Collecting ply>=3.10\n",
            "  Downloading ply-3.11-py2.py3-none-any.whl (49 kB)\n",
            "\u001b[2K     \u001b[90m━━━━━━━━━━━━━━━━━━━━━━━━━━━━━━━━━━━━━━━━\u001b[0m \u001b[32m49.6/49.6 KB\u001b[0m \u001b[31m3.5 MB/s\u001b[0m eta \u001b[36m0:00:00\u001b[0m\n",
            "\u001b[?25hRequirement already satisfied: cycler>=0.10 in /usr/local/lib/python3.8/dist-packages (from matplotlib) (0.11.0)\n",
            "Requirement already satisfied: pyparsing!=2.0.4,!=2.1.2,!=2.1.6,>=2.0.1 in /usr/local/lib/python3.8/dist-packages (from matplotlib) (3.0.9)\n",
            "Requirement already satisfied: kiwisolver>=1.0.1 in /usr/local/lib/python3.8/dist-packages (from matplotlib) (1.4.4)\n",
            "Requirement already satisfied: six>=1.5 in /usr/local/lib/python3.8/dist-packages (from python-dateutil>=2.8.0->qiskit-ibmq-provider==0.19.2->qiskit) (1.15.0)\n",
            "Requirement already satisfied: chardet<5,>=3.0.2 in /usr/local/lib/python3.8/dist-packages (from requests>=2.19->qiskit-ibmq-provider==0.19.2->qiskit) (4.0.0)\n",
            "Requirement already satisfied: idna<3,>=2.5 in /usr/local/lib/python3.8/dist-packages (from requests>=2.19->qiskit-ibmq-provider==0.19.2->qiskit) (2.10)\n",
            "Requirement already satisfied: certifi>=2017.4.17 in /usr/local/lib/python3.8/dist-packages (from requests>=2.19->qiskit-ibmq-provider==0.19.2->qiskit) (2022.12.7)\n",
            "Collecting cryptography>=1.3\n",
            "  Downloading cryptography-39.0.0-cp36-abi3-manylinux_2_28_x86_64.whl (4.2 MB)\n",
            "\u001b[2K     \u001b[90m━━━━━━━━━━━━━━━━━━━━━━━━━━━━━━━━━━━━━━━━\u001b[0m \u001b[32m4.2/4.2 MB\u001b[0m \u001b[31m50.6 MB/s\u001b[0m eta \u001b[36m0:00:00\u001b[0m\n",
            "\u001b[?25hCollecting ntlm-auth>=1.0.2\n",
            "  Downloading ntlm_auth-1.5.0-py2.py3-none-any.whl (29 kB)\n",
            "Collecting pbr!=2.1.0,>=2.0.0\n",
            "  Downloading pbr-5.11.1-py2.py3-none-any.whl (112 kB)\n",
            "\u001b[2K     \u001b[90m━━━━━━━━━━━━━━━━━━━━━━━━━━━━━━━━━━━━━━━\u001b[0m \u001b[32m112.7/112.7 KB\u001b[0m \u001b[31m9.6 MB/s\u001b[0m eta \u001b[36m0:00:00\u001b[0m\n",
            "\u001b[?25hRequirement already satisfied: mpmath>=0.19 in /usr/local/lib/python3.8/dist-packages (from sympy>=1.3->qiskit-terra==0.23.0->qiskit) (1.2.1)\n",
            "Requirement already satisfied: cffi>=1.12 in /usr/local/lib/python3.8/dist-packages (from cryptography>=1.3->requests-ntlm>=1.1.0->qiskit-ibmq-provider==0.19.2->qiskit) (1.15.1)\n",
            "Requirement already satisfied: pycparser in /usr/local/lib/python3.8/dist-packages (from cffi>=1.12->cryptography>=1.3->requests-ntlm>=1.1.0->qiskit-ibmq-provider==0.19.2->qiskit) (2.21)\n",
            "Building wheels for collected packages: qiskit, pylatexenc\n",
            "  Building wheel for qiskit (setup.py) ... \u001b[?25l\u001b[?25hdone\n",
            "  Created wheel for qiskit: filename=qiskit-0.40.0-py3-none-any.whl size=12841 sha256=0121181fa9721b0478b4f3adccf18567780497f6c5705e0615f436b84d422ae9\n",
            "  Stored in directory: /root/.cache/pip/wheels/44/52/90/52d837f0b0cc96b59422d8c3a66dd38e8e08660439e513d707\n",
            "  Building wheel for pylatexenc (setup.py) ... \u001b[?25l\u001b[?25hdone\n",
            "  Created wheel for pylatexenc: filename=pylatexenc-2.10-py3-none-any.whl size=136833 sha256=93c185bfb416feabd5d230b88117b5f8bb7102a60ceb82ee99910ec140d38153\n",
            "  Stored in directory: /root/.cache/pip/wheels/72/99/be/81d9bcdf5dd5ee5acd8119a9dd5bc07204c9ce205fd341b021\n",
            "Successfully built qiskit pylatexenc\n",
            "Installing collected packages: pylatexenc, ply, websockets, websocket-client, symengine, rustworkx, pbr, ntlm-auth, stevedore, cryptography, requests-ntlm, qiskit-terra, qiskit-ibmq-provider, qiskit-aer, qiskit\n",
            "Successfully installed cryptography-39.0.0 ntlm-auth-1.5.0 pbr-5.11.1 ply-3.11 pylatexenc-2.10 qiskit-0.40.0 qiskit-aer-0.11.2 qiskit-ibmq-provider-0.19.2 qiskit-terra-0.23.0 requests-ntlm-1.1.0 rustworkx-0.12.1 stevedore-4.1.1 symengine-0.9.2 websocket-client-1.5.0 websockets-10.4\n"
          ]
        }
      ],
      "source": [
        "!pip install qiskit matplotlib pylatexenc networkx scipy"
      ]
    },
    {
      "cell_type": "markdown",
      "source": [
        "En primer lugar vamos a importar las bibliotecas necesarias"
      ],
      "metadata": {
        "id": "FUNxwrexnRvZ"
      }
    },
    {
      "cell_type": "code",
      "source": [
        "from qiskit.circuit import QuantumCircuit, Parameter\n",
        "from qiskit import Aer\n",
        "from qiskit.visualization import plot_histogram\n",
        "from networkx import Graph, draw\n",
        "from scipy.optimize import minimize"
      ],
      "metadata": {
        "id": "KkLnjH9fnPWw"
      },
      "execution_count": null,
      "outputs": []
    },
    {
      "cell_type": "markdown",
      "source": [
        "Vamos a construir el circuito a partir del grafo y un vector que contiene los parámetros γ y β"
      ],
      "metadata": {
        "id": "MH3QFEA-nzId"
      }
    },
    {
      "cell_type": "code",
      "source": [
        "def obtener_circuito(G, theta):\n",
        "  nqubits = len(G.nodes())\n",
        "  circuito = QuantumCircuit(nqubits)\n",
        "  p = len(theta)//2\n",
        "  \n",
        "  gamma = theta[:p]\n",
        "  beta = theta[p:]\n",
        "\n",
        "  # Preparamos una superposición de todos los estados con puertas de Hadamard\n",
        "  for i in range(0, nqubits):\n",
        "    circuito.h(i)\n",
        "  \n",
        "  # Repetimos p veces los circuitos con el Hamiltoniano del problema y de mezcla\n",
        "  for i in range(0,p):\n",
        "    # Circuito con el Hamiltoniano del problema\n",
        "    for l,k in G.edges():\n",
        "      circuito.rzz(2 * gamma[i],l,k)\n",
        "\n",
        "    # Circuito con el Hamitoniano de mezcla\n",
        "    for qbit in range(0,nqubits):\n",
        "      circuito.rx(2 * beta[i], qbit)\n",
        "\n",
        "  # Medida para obtener una solución\n",
        "  circuito.measure_all()\n",
        "\n",
        "  return circuito"
      ],
      "metadata": {
        "id": "yuglY2bqn9T3"
      },
      "execution_count": null,
      "outputs": []
    },
    {
      "cell_type": "markdown",
      "source": [
        "Una vez que tenemos el circuito, vamos a preparar la función objetivo que va a usar el optimizador. Pero antes vamos a crear un entorno de ejecución (en este caso simulado) y preparamos una función para ejecutar el circuito asociado al grafo en dicho entorno. Esta función nos servirá también para obtener los reusltados una vez que el algoritmo clásico haya optimizado los parámetros del circuito."
      ],
      "metadata": {
        "id": "BeZ7LPySpu2m"
      }
    },
    {
      "cell_type": "code",
      "source": [
        "entorno = Aer.get_backend('qasm_simulator')\n",
        "\n",
        "def ejecuta_circuito(G, theta, ejecuciones=1000):      \n",
        "    circuito = obtener_circuito(G, theta)\n",
        "    histograma = entorno.run(circuito, nshots=ejecuciones).result().get_counts()\n",
        "    return histograma"
      ],
      "metadata": {
        "id": "Rx86vcLdzEKZ"
      },
      "execution_count": null,
      "outputs": []
    },
    {
      "cell_type": "markdown",
      "source": [
        "La función objetivo debe ejecutar el circuito cuántico varias veces y calcular el promedio de la función objetivo para las soluciones extraídas en las distintas ejecuciones. Mostramos esta función a continuación, donde usamos como parámetro el vector de variables de decisión (los ángulos γ y β) y el número de ejecuciones del circuito cuántico."
      ],
      "metadata": {
        "id": "osEpHw5E1Hnv"
      }
    },
    {
      "cell_type": "code",
      "source": [
        "def funcion_objetivo(G, ejecuciones=1000):\n",
        "\n",
        "  def cuenta_ejes_cruzados(solucion):\n",
        "    ejes_cruzados = 0\n",
        "    for i,j in G.edges():\n",
        "      if solucion[i] != solucion[j]:\n",
        "        ejes_cruzados += 1\n",
        "    return ejes_cruzados\n",
        "    \n",
        "  def ejecuta_calcula_promedio(theta):\n",
        "    histograma = ejecuta_circuito(G, theta, ejecuciones)\n",
        "\n",
        "    suma = 0\n",
        "    ejecs = 0\n",
        "    for solucion, veces in histograma.items():\n",
        "      # La solución viene invertida (el bit más significativo primero)\n",
        "      ejes_cruzados = cuenta_ejes_cruzados(solucion[::-1])\n",
        "      suma += ejes_cruzados * veces\n",
        "      ejecs += veces\n",
        "\n",
        "    return -suma/ejecs\n",
        "    \n",
        "  return ejecuta_calcula_promedio\n"
      ],
      "metadata": {
        "id": "EUuM_JtUqe8V"
      },
      "execution_count": null,
      "outputs": []
    },
    {
      "cell_type": "markdown",
      "source": [
        "Ahora solo nos queda utilizar un algoritmo de optimización clásico para resolver el problema. Aquí usaremos SLSQP de SciPy."
      ],
      "metadata": {
        "id": "GpV-8mVmt5kW"
      }
    },
    {
      "cell_type": "code",
      "source": [
        "def maximiza(G):\n",
        "  objetivo = funcion_objetivo(G)\n",
        "  return minimize(objetivo,[1.0,1.0,1.0,1.0], method='COBYLA')\n",
        "  "
      ],
      "metadata": {
        "id": "75PiNO8EuuB3"
      },
      "execution_count": null,
      "outputs": []
    },
    {
      "cell_type": "markdown",
      "source": [
        "Vamos a probar el algoritmo con un grafo de 5 vértices y 6 ejes."
      ],
      "metadata": {
        "id": "RrCyisyAvPKy"
      }
    },
    {
      "cell_type": "code",
      "source": [
        "G = Graph()\n",
        "G.add_nodes_from([0,1,2,3,4])\n",
        "G.add_edges_from([(0,1),(0,3),(1,3),(1,2),(2,4),(3,4)])\n",
        "draw(G, with_labels=True)"
      ],
      "metadata": {
        "colab": {
          "base_uri": "https://localhost:8080/",
          "height": 320
        },
        "id": "oP8kMvzguBzL",
        "outputId": "4e7d591c-7da1-4147-c5bf-df2c67cdc522"
      },
      "execution_count": null,
      "outputs": [
        {
          "output_type": "display_data",
          "data": {
            "text/plain": [
              "<Figure size 432x288 with 1 Axes>"
            ],
            "image/png": "[encoded data removed]"
          },
          "metadata": {}
        }
      ]
    },
    {
      "cell_type": "markdown",
      "source": [
        "Ahora aplicamos QAOA para encontrar los parámetros de un circuito óptimo."
      ],
      "metadata": {
        "id": "7MxpnYHuwctV"
      }
    },
    {
      "cell_type": "code",
      "source": [
        "resultado = maximiza(G)\n",
        "resultado"
      ],
      "metadata": {
        "colab": {
          "base_uri": "https://localhost:8080/"
        },
        "id": "HIkwS8whwcU0",
        "outputId": "400838c2-b845-4e84-fbd7-525023573998"
      },
      "execution_count": null,
      "outputs": [
        {
          "output_type": "execute_result",
          "data": {
            "text/plain": [
              "     fun: -4.150390625\n",
              "   maxcv: 0.0\n",
              " message: 'Optimization terminated successfully.'\n",
              "    nfev: 43\n",
              "  status: 1\n",
              " success: True\n",
              "       x: array([0.30314406, 1.62691499, 1.17179955, 1.54316145])"
            ]
          },
          "metadata": {},
          "execution_count": 8
        }
      ]
    },
    {
      "cell_type": "code",
      "source": [
        "histograma = ejecuta_circuito(G, [0.30314406, 1.62691499, 1.17179955, 1.54316145])\n",
        "plot_histogram(histograma)"
      ],
      "metadata": {
        "colab": {
          "base_uri": "https://localhost:8080/",
          "height": 356
        },
        "id": "UXkl5TTKz3KH",
        "outputId": "7c416e65-f092-44c4-dafc-32491fb2414f"
      },
      "execution_count": null,
      "outputs": [
        {
          "output_type": "execute_result",
          "data": {
            "text/plain": [
              "<Figure size 504x360 with 1 Axes>"
            ],
            "image/png": "[encoded data removed]"
          },
          "metadata": {},
          "execution_count": 9
        }
      ]
    }
  ]
}